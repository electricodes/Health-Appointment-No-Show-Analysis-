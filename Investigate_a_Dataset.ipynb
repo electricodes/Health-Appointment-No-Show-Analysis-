{
 "cells": [
  {
   "cell_type": "markdown",
   "metadata": {},
   "source": [
    "# Project: Investigate a Dataset - Medical Appointment No-Shows\n",
    "\n",
    "## Table of Contents\n",
    "<ul>\n",
    "<li><a href=\"#intro\">Introduction</a></li>\n",
    "<li><a href=\"#wrangling\">Data Wrangling</a></li>\n",
    "<li><a href=\"#eda\">Exploratory Data Analysis</a></li>\n",
    "<li><a href=\"#conclusions\">Conclusions</a></li>\n",
    "</ul>"
   ]
  },
  {
   "cell_type": "markdown",
   "metadata": {},
   "source": [
    "<a id='intro'></a>\n",
    "## Introduction\n",
    "\n",
    "### Dataset Description \n",
    "\n",
    "For this project, I will be analyzing the [Medical Appointment No Shows Dataset](https://www.kaggle.com/datasets/joniarroba/noshowappointments). The dataset consists of over 110,000 medical appointments from Brazil, and the datset contains the following columns:\n",
    "\n",
    "1- PatientID - The ID of the patient for the appointment\n",
    "\n",
    "2- AppointmentID - The ID for the individual appointment \n",
    "\n",
    "3- Gender - Gender of patient (either man or woman)\n",
    "\n",
    "4- ScheduledDay - Date and time the appointment was made\n",
    "\n",
    "5- AppointmentDay - Date and time of the appointment\n",
    "\n",
    "6- Age - Age of patient\n",
    "\n",
    "7- Neighbourhood - Neighbourhood/Area of where appointment takes place\n",
    "\n",
    "8- Scholarship - Does the patient get government support\n",
    "\n",
    "9- Hypertension - Does the patient have Hypertension\n",
    "\n",
    "10- Diabetes - Does the patient have Diabetes\n",
    "\n",
    "11- Alcoholism - Does the patient have Alcoholism \n",
    "\n",
    "12- Handicap - Does the patient have a Handicap and how many\n",
    "\n",
    "13- SMS_received - Did the patient receive a message about the appointment\n",
    "\n",
    "14- No-show - Did the patient show up\n",
    "\n",
    "### Questions for Analysis\n",
    "\n",
    "\n",
    "#### 1) Is the gender of the patient associated with if they show up for their appointment?\n",
    "\n",
    "#### 2) Is the age of the patient associated with if they show up to their appointment?\n",
    "\n",
    "#### 3) Is the day of the week associated with  the amount of no-shows?\n",
    "\n",
    "#### 4) Is receiving a sms message associated with the rate of people who show up?\n",
    "\n",
    "#### 5) Is being on the goverment scholarship program associated with the rate of people showing up?\n",
    "\n",
    "#### 6) Which Neighborhoods have the most no-shows?\n",
    "\n",
    "#### 7) Which patient conditions, if any, have a higher rate of no-shows than patients who don't have those conditions?"
   ]
  },
  {
   "cell_type": "code",
   "execution_count": 64,
   "metadata": {},
   "outputs": [],
   "source": [
    "# import packages \n",
    "\n",
    "import pandas as pd\n",
    "import numpy as np\n",
    "import matplotlib.pyplot as plt\n",
    "import seaborn as sns\n",
    "import scipy.stats\n",
    "\n",
    "% matplotlib inline"
   ]
  },
  {
   "cell_type": "markdown",
   "metadata": {},
   "source": [
    "<a id='wrangling'></a>\n",
    "## Data Wrangling\n"
   ]
  },
  {
   "cell_type": "markdown",
   "metadata": {},
   "source": [
    "Load data and give a quick inspection"
   ]
  },
  {
   "cell_type": "code",
   "execution_count": 2,
   "metadata": {},
   "outputs": [
    {
     "data": {
      "text/html": [
       "<div>\n",
       "<style scoped>\n",
       "    .dataframe tbody tr th:only-of-type {\n",
       "        vertical-align: middle;\n",
       "    }\n",
       "\n",
       "    .dataframe tbody tr th {\n",
       "        vertical-align: top;\n",
       "    }\n",
       "\n",
       "    .dataframe thead th {\n",
       "        text-align: right;\n",
       "    }\n",
       "</style>\n",
       "<table border=\"1\" class=\"dataframe\">\n",
       "  <thead>\n",
       "    <tr style=\"text-align: right;\">\n",
       "      <th></th>\n",
       "      <th>PatientId</th>\n",
       "      <th>AppointmentID</th>\n",
       "      <th>Gender</th>\n",
       "      <th>ScheduledDay</th>\n",
       "      <th>AppointmentDay</th>\n",
       "      <th>Age</th>\n",
       "      <th>Neighbourhood</th>\n",
       "      <th>Scholarship</th>\n",
       "      <th>Hipertension</th>\n",
       "      <th>Diabetes</th>\n",
       "      <th>Alcoholism</th>\n",
       "      <th>Handcap</th>\n",
       "      <th>SMS_received</th>\n",
       "      <th>No-show</th>\n",
       "    </tr>\n",
       "  </thead>\n",
       "  <tbody>\n",
       "    <tr>\n",
       "      <th>0</th>\n",
       "      <td>2.987250e+13</td>\n",
       "      <td>5642903</td>\n",
       "      <td>F</td>\n",
       "      <td>2016-04-29T18:38:08Z</td>\n",
       "      <td>2016-04-29T00:00:00Z</td>\n",
       "      <td>62</td>\n",
       "      <td>JARDIM DA PENHA</td>\n",
       "      <td>0</td>\n",
       "      <td>1</td>\n",
       "      <td>0</td>\n",
       "      <td>0</td>\n",
       "      <td>0</td>\n",
       "      <td>0</td>\n",
       "      <td>No</td>\n",
       "    </tr>\n",
       "    <tr>\n",
       "      <th>1</th>\n",
       "      <td>5.589978e+14</td>\n",
       "      <td>5642503</td>\n",
       "      <td>M</td>\n",
       "      <td>2016-04-29T16:08:27Z</td>\n",
       "      <td>2016-04-29T00:00:00Z</td>\n",
       "      <td>56</td>\n",
       "      <td>JARDIM DA PENHA</td>\n",
       "      <td>0</td>\n",
       "      <td>0</td>\n",
       "      <td>0</td>\n",
       "      <td>0</td>\n",
       "      <td>0</td>\n",
       "      <td>0</td>\n",
       "      <td>No</td>\n",
       "    </tr>\n",
       "    <tr>\n",
       "      <th>2</th>\n",
       "      <td>4.262962e+12</td>\n",
       "      <td>5642549</td>\n",
       "      <td>F</td>\n",
       "      <td>2016-04-29T16:19:04Z</td>\n",
       "      <td>2016-04-29T00:00:00Z</td>\n",
       "      <td>62</td>\n",
       "      <td>MATA DA PRAIA</td>\n",
       "      <td>0</td>\n",
       "      <td>0</td>\n",
       "      <td>0</td>\n",
       "      <td>0</td>\n",
       "      <td>0</td>\n",
       "      <td>0</td>\n",
       "      <td>No</td>\n",
       "    </tr>\n",
       "    <tr>\n",
       "      <th>3</th>\n",
       "      <td>8.679512e+11</td>\n",
       "      <td>5642828</td>\n",
       "      <td>F</td>\n",
       "      <td>2016-04-29T17:29:31Z</td>\n",
       "      <td>2016-04-29T00:00:00Z</td>\n",
       "      <td>8</td>\n",
       "      <td>PONTAL DE CAMBURI</td>\n",
       "      <td>0</td>\n",
       "      <td>0</td>\n",
       "      <td>0</td>\n",
       "      <td>0</td>\n",
       "      <td>0</td>\n",
       "      <td>0</td>\n",
       "      <td>No</td>\n",
       "    </tr>\n",
       "    <tr>\n",
       "      <th>4</th>\n",
       "      <td>8.841186e+12</td>\n",
       "      <td>5642494</td>\n",
       "      <td>F</td>\n",
       "      <td>2016-04-29T16:07:23Z</td>\n",
       "      <td>2016-04-29T00:00:00Z</td>\n",
       "      <td>56</td>\n",
       "      <td>JARDIM DA PENHA</td>\n",
       "      <td>0</td>\n",
       "      <td>1</td>\n",
       "      <td>1</td>\n",
       "      <td>0</td>\n",
       "      <td>0</td>\n",
       "      <td>0</td>\n",
       "      <td>No</td>\n",
       "    </tr>\n",
       "  </tbody>\n",
       "</table>\n",
       "</div>"
      ],
      "text/plain": [
       "      PatientId  AppointmentID Gender          ScheduledDay  \\\n",
       "0  2.987250e+13        5642903      F  2016-04-29T18:38:08Z   \n",
       "1  5.589978e+14        5642503      M  2016-04-29T16:08:27Z   \n",
       "2  4.262962e+12        5642549      F  2016-04-29T16:19:04Z   \n",
       "3  8.679512e+11        5642828      F  2016-04-29T17:29:31Z   \n",
       "4  8.841186e+12        5642494      F  2016-04-29T16:07:23Z   \n",
       "\n",
       "         AppointmentDay  Age      Neighbourhood  Scholarship  Hipertension  \\\n",
       "0  2016-04-29T00:00:00Z   62    JARDIM DA PENHA            0             1   \n",
       "1  2016-04-29T00:00:00Z   56    JARDIM DA PENHA            0             0   \n",
       "2  2016-04-29T00:00:00Z   62      MATA DA PRAIA            0             0   \n",
       "3  2016-04-29T00:00:00Z    8  PONTAL DE CAMBURI            0             0   \n",
       "4  2016-04-29T00:00:00Z   56    JARDIM DA PENHA            0             1   \n",
       "\n",
       "   Diabetes  Alcoholism  Handcap  SMS_received No-show  \n",
       "0         0           0        0             0      No  \n",
       "1         0           0        0             0      No  \n",
       "2         0           0        0             0      No  \n",
       "3         0           0        0             0      No  \n",
       "4         1           0        0             0      No  "
      ]
     },
     "execution_count": 2,
     "metadata": {},
     "output_type": "execute_result"
    }
   ],
   "source": [
    "# Load data \n",
    "df = pd.read_csv(\"Database_No_show_appointments/noshowappointments-kagglev2-may-2016.csv\")\n",
    "df.head()"
   ]
  },
  {
   "cell_type": "code",
   "execution_count": 3,
   "metadata": {},
   "outputs": [
    {
     "data": {
      "text/plain": [
       "(110527, 14)"
      ]
     },
     "execution_count": 3,
     "metadata": {},
     "output_type": "execute_result"
    }
   ],
   "source": [
    "df.shape"
   ]
  },
  {
   "cell_type": "markdown",
   "metadata": {},
   "source": [
    "Over 110,000 appointments in the data frame and 14 columns"
   ]
  },
  {
   "cell_type": "code",
   "execution_count": 4,
   "metadata": {},
   "outputs": [
    {
     "data": {
      "text/plain": [
       "Index(['PatientId', 'AppointmentID', 'Gender', 'ScheduledDay',\n",
       "       'AppointmentDay', 'Age', 'Neighbourhood', 'Scholarship', 'Hipertension',\n",
       "       'Diabetes', 'Alcoholism', 'Handcap', 'SMS_received', 'No-show'],\n",
       "      dtype='object')"
      ]
     },
     "execution_count": 4,
     "metadata": {},
     "output_type": "execute_result"
    }
   ],
   "source": [
    "df.columns"
   ]
  },
  {
   "cell_type": "code",
   "execution_count": 5,
   "metadata": {},
   "outputs": [
    {
     "data": {
      "text/plain": [
       "PatientId         float64\n",
       "AppointmentID       int64\n",
       "Gender             object\n",
       "ScheduledDay       object\n",
       "AppointmentDay     object\n",
       "Age                 int64\n",
       "Neighbourhood      object\n",
       "Scholarship         int64\n",
       "Hipertension        int64\n",
       "Diabetes            int64\n",
       "Alcoholism          int64\n",
       "Handcap             int64\n",
       "SMS_received        int64\n",
       "No-show            object\n",
       "dtype: object"
      ]
     },
     "execution_count": 5,
     "metadata": {},
     "output_type": "execute_result"
    }
   ],
   "source": [
    "df.dtypes"
   ]
  },
  {
   "cell_type": "code",
   "execution_count": 6,
   "metadata": {
    "scrolled": true
   },
   "outputs": [
    {
     "data": {
      "text/plain": [
       "PatientId         0\n",
       "AppointmentID     0\n",
       "Gender            0\n",
       "ScheduledDay      0\n",
       "AppointmentDay    0\n",
       "Age               0\n",
       "Neighbourhood     0\n",
       "Scholarship       0\n",
       "Hipertension      0\n",
       "Diabetes          0\n",
       "Alcoholism        0\n",
       "Handcap           0\n",
       "SMS_received      0\n",
       "No-show           0\n",
       "dtype: int64"
      ]
     },
     "execution_count": 6,
     "metadata": {},
     "output_type": "execute_result"
    }
   ],
   "source": [
    "df.isnull().sum()"
   ]
  },
  {
   "cell_type": "markdown",
   "metadata": {},
   "source": [
    "No null data points in the data frame"
   ]
  },
  {
   "cell_type": "code",
   "execution_count": 7,
   "metadata": {
    "scrolled": false
   },
   "outputs": [
    {
     "data": {
      "text/plain": [
       "PatientId         0\n",
       "AppointmentID     0\n",
       "Gender            0\n",
       "ScheduledDay      0\n",
       "AppointmentDay    0\n",
       "Age               0\n",
       "Neighbourhood     0\n",
       "Scholarship       0\n",
       "Hipertension      0\n",
       "Diabetes          0\n",
       "Alcoholism        0\n",
       "Handcap           0\n",
       "SMS_received      0\n",
       "No-show           0\n",
       "dtype: int64"
      ]
     },
     "execution_count": 7,
     "metadata": {},
     "output_type": "execute_result"
    }
   ],
   "source": [
    "df.isna().sum()"
   ]
  },
  {
   "cell_type": "markdown",
   "metadata": {},
   "source": [
    "No N/A data points in the data frame"
   ]
  },
  {
   "cell_type": "code",
   "execution_count": 8,
   "metadata": {},
   "outputs": [
    {
     "data": {
      "text/plain": [
       "0"
      ]
     },
     "execution_count": 8,
     "metadata": {},
     "output_type": "execute_result"
    }
   ],
   "source": [
    "df.duplicated().sum()"
   ]
  },
  {
   "cell_type": "markdown",
   "metadata": {},
   "source": [
    "No duplicated rows of data"
   ]
  },
  {
   "cell_type": "code",
   "execution_count": 9,
   "metadata": {
    "scrolled": false
   },
   "outputs": [
    {
     "data": {
      "text/plain": [
       "PatientId          62299\n",
       "AppointmentID     110527\n",
       "Gender                 2\n",
       "ScheduledDay      103549\n",
       "AppointmentDay        27\n",
       "Age                  104\n",
       "Neighbourhood         81\n",
       "Scholarship            2\n",
       "Hipertension           2\n",
       "Diabetes               2\n",
       "Alcoholism             2\n",
       "Handcap                5\n",
       "SMS_received           2\n",
       "No-show                2\n",
       "dtype: int64"
      ]
     },
     "execution_count": 9,
     "metadata": {},
     "output_type": "execute_result"
    }
   ],
   "source": [
    "df.nunique()"
   ]
  },
  {
   "cell_type": "markdown",
   "metadata": {},
   "source": [
    "Only 27 days in the appointment day column but over 110,00 appointments"
   ]
  },
  {
   "cell_type": "code",
   "execution_count": 10,
   "metadata": {},
   "outputs": [
    {
     "data": {
      "text/html": [
       "<div>\n",
       "<style scoped>\n",
       "    .dataframe tbody tr th:only-of-type {\n",
       "        vertical-align: middle;\n",
       "    }\n",
       "\n",
       "    .dataframe tbody tr th {\n",
       "        vertical-align: top;\n",
       "    }\n",
       "\n",
       "    .dataframe thead th {\n",
       "        text-align: right;\n",
       "    }\n",
       "</style>\n",
       "<table border=\"1\" class=\"dataframe\">\n",
       "  <thead>\n",
       "    <tr style=\"text-align: right;\">\n",
       "      <th></th>\n",
       "      <th>PatientId</th>\n",
       "      <th>AppointmentID</th>\n",
       "      <th>Age</th>\n",
       "      <th>Scholarship</th>\n",
       "      <th>Hipertension</th>\n",
       "      <th>Diabetes</th>\n",
       "      <th>Alcoholism</th>\n",
       "      <th>Handcap</th>\n",
       "      <th>SMS_received</th>\n",
       "    </tr>\n",
       "  </thead>\n",
       "  <tbody>\n",
       "    <tr>\n",
       "      <th>count</th>\n",
       "      <td>1.105270e+05</td>\n",
       "      <td>1.105270e+05</td>\n",
       "      <td>110527.000000</td>\n",
       "      <td>110527.000000</td>\n",
       "      <td>110527.000000</td>\n",
       "      <td>110527.000000</td>\n",
       "      <td>110527.000000</td>\n",
       "      <td>110527.000000</td>\n",
       "      <td>110527.000000</td>\n",
       "    </tr>\n",
       "    <tr>\n",
       "      <th>mean</th>\n",
       "      <td>1.474963e+14</td>\n",
       "      <td>5.675305e+06</td>\n",
       "      <td>37.088874</td>\n",
       "      <td>0.098266</td>\n",
       "      <td>0.197246</td>\n",
       "      <td>0.071865</td>\n",
       "      <td>0.030400</td>\n",
       "      <td>0.022248</td>\n",
       "      <td>0.321026</td>\n",
       "    </tr>\n",
       "    <tr>\n",
       "      <th>std</th>\n",
       "      <td>2.560949e+14</td>\n",
       "      <td>7.129575e+04</td>\n",
       "      <td>23.110205</td>\n",
       "      <td>0.297675</td>\n",
       "      <td>0.397921</td>\n",
       "      <td>0.258265</td>\n",
       "      <td>0.171686</td>\n",
       "      <td>0.161543</td>\n",
       "      <td>0.466873</td>\n",
       "    </tr>\n",
       "    <tr>\n",
       "      <th>min</th>\n",
       "      <td>3.921784e+04</td>\n",
       "      <td>5.030230e+06</td>\n",
       "      <td>-1.000000</td>\n",
       "      <td>0.000000</td>\n",
       "      <td>0.000000</td>\n",
       "      <td>0.000000</td>\n",
       "      <td>0.000000</td>\n",
       "      <td>0.000000</td>\n",
       "      <td>0.000000</td>\n",
       "    </tr>\n",
       "    <tr>\n",
       "      <th>25%</th>\n",
       "      <td>4.172614e+12</td>\n",
       "      <td>5.640286e+06</td>\n",
       "      <td>18.000000</td>\n",
       "      <td>0.000000</td>\n",
       "      <td>0.000000</td>\n",
       "      <td>0.000000</td>\n",
       "      <td>0.000000</td>\n",
       "      <td>0.000000</td>\n",
       "      <td>0.000000</td>\n",
       "    </tr>\n",
       "    <tr>\n",
       "      <th>50%</th>\n",
       "      <td>3.173184e+13</td>\n",
       "      <td>5.680573e+06</td>\n",
       "      <td>37.000000</td>\n",
       "      <td>0.000000</td>\n",
       "      <td>0.000000</td>\n",
       "      <td>0.000000</td>\n",
       "      <td>0.000000</td>\n",
       "      <td>0.000000</td>\n",
       "      <td>0.000000</td>\n",
       "    </tr>\n",
       "    <tr>\n",
       "      <th>75%</th>\n",
       "      <td>9.439172e+13</td>\n",
       "      <td>5.725524e+06</td>\n",
       "      <td>55.000000</td>\n",
       "      <td>0.000000</td>\n",
       "      <td>0.000000</td>\n",
       "      <td>0.000000</td>\n",
       "      <td>0.000000</td>\n",
       "      <td>0.000000</td>\n",
       "      <td>1.000000</td>\n",
       "    </tr>\n",
       "    <tr>\n",
       "      <th>max</th>\n",
       "      <td>9.999816e+14</td>\n",
       "      <td>5.790484e+06</td>\n",
       "      <td>115.000000</td>\n",
       "      <td>1.000000</td>\n",
       "      <td>1.000000</td>\n",
       "      <td>1.000000</td>\n",
       "      <td>1.000000</td>\n",
       "      <td>4.000000</td>\n",
       "      <td>1.000000</td>\n",
       "    </tr>\n",
       "  </tbody>\n",
       "</table>\n",
       "</div>"
      ],
      "text/plain": [
       "          PatientId  AppointmentID            Age    Scholarship  \\\n",
       "count  1.105270e+05   1.105270e+05  110527.000000  110527.000000   \n",
       "mean   1.474963e+14   5.675305e+06      37.088874       0.098266   \n",
       "std    2.560949e+14   7.129575e+04      23.110205       0.297675   \n",
       "min    3.921784e+04   5.030230e+06      -1.000000       0.000000   \n",
       "25%    4.172614e+12   5.640286e+06      18.000000       0.000000   \n",
       "50%    3.173184e+13   5.680573e+06      37.000000       0.000000   \n",
       "75%    9.439172e+13   5.725524e+06      55.000000       0.000000   \n",
       "max    9.999816e+14   5.790484e+06     115.000000       1.000000   \n",
       "\n",
       "        Hipertension       Diabetes     Alcoholism        Handcap  \\\n",
       "count  110527.000000  110527.000000  110527.000000  110527.000000   \n",
       "mean        0.197246       0.071865       0.030400       0.022248   \n",
       "std         0.397921       0.258265       0.171686       0.161543   \n",
       "min         0.000000       0.000000       0.000000       0.000000   \n",
       "25%         0.000000       0.000000       0.000000       0.000000   \n",
       "50%         0.000000       0.000000       0.000000       0.000000   \n",
       "75%         0.000000       0.000000       0.000000       0.000000   \n",
       "max         1.000000       1.000000       1.000000       4.000000   \n",
       "\n",
       "        SMS_received  \n",
       "count  110527.000000  \n",
       "mean        0.321026  \n",
       "std         0.466873  \n",
       "min         0.000000  \n",
       "25%         0.000000  \n",
       "50%         0.000000  \n",
       "75%         1.000000  \n",
       "max         1.000000  "
      ]
     },
     "execution_count": 10,
     "metadata": {},
     "output_type": "execute_result"
    }
   ],
   "source": [
    "df.describe()"
   ]
  },
  {
   "cell_type": "markdown",
   "metadata": {},
   "source": [
    "Minimum age is shown as -1, which is not a possible age. This will need to be investigated."
   ]
  },
  {
   "cell_type": "markdown",
   "metadata": {},
   "source": [
    "### Data Cleaning"
   ]
  },
  {
   "cell_type": "markdown",
   "metadata": {},
   "source": [
    "First, I will start by dropping the columns that I am not investigating, those being PatientId, AppointmentId, and ScheduleDay."
   ]
  },
  {
   "cell_type": "code",
   "execution_count": 11,
   "metadata": {},
   "outputs": [],
   "source": [
    "df.drop(['PatientId', 'AppointmentID', 'ScheduledDay' ], axis =1, inplace=True)"
   ]
  },
  {
   "cell_type": "markdown",
   "metadata": {},
   "source": [
    "Check that we have removed the columns"
   ]
  },
  {
   "cell_type": "code",
   "execution_count": 12,
   "metadata": {},
   "outputs": [
    {
     "data": {
      "text/plain": [
       "(110527, 11)"
      ]
     },
     "execution_count": 12,
     "metadata": {},
     "output_type": "execute_result"
    }
   ],
   "source": [
    "df.shape"
   ]
  },
  {
   "cell_type": "markdown",
   "metadata": {},
   "source": [
    "Now, I'll deal with the minimum age being -1"
   ]
  },
  {
   "cell_type": "code",
   "execution_count": 13,
   "metadata": {
    "scrolled": true
   },
   "outputs": [
    {
     "data": {
      "text/html": [
       "<div>\n",
       "<style scoped>\n",
       "    .dataframe tbody tr th:only-of-type {\n",
       "        vertical-align: middle;\n",
       "    }\n",
       "\n",
       "    .dataframe tbody tr th {\n",
       "        vertical-align: top;\n",
       "    }\n",
       "\n",
       "    .dataframe thead th {\n",
       "        text-align: right;\n",
       "    }\n",
       "</style>\n",
       "<table border=\"1\" class=\"dataframe\">\n",
       "  <thead>\n",
       "    <tr style=\"text-align: right;\">\n",
       "      <th></th>\n",
       "      <th>Age</th>\n",
       "      <th>Scholarship</th>\n",
       "      <th>Hipertension</th>\n",
       "      <th>Diabetes</th>\n",
       "      <th>Alcoholism</th>\n",
       "      <th>Handcap</th>\n",
       "      <th>SMS_received</th>\n",
       "    </tr>\n",
       "  </thead>\n",
       "  <tbody>\n",
       "    <tr>\n",
       "      <th>count</th>\n",
       "      <td>110527.000000</td>\n",
       "      <td>110527.000000</td>\n",
       "      <td>110527.000000</td>\n",
       "      <td>110527.000000</td>\n",
       "      <td>110527.000000</td>\n",
       "      <td>110527.000000</td>\n",
       "      <td>110527.000000</td>\n",
       "    </tr>\n",
       "    <tr>\n",
       "      <th>mean</th>\n",
       "      <td>37.088874</td>\n",
       "      <td>0.098266</td>\n",
       "      <td>0.197246</td>\n",
       "      <td>0.071865</td>\n",
       "      <td>0.030400</td>\n",
       "      <td>0.022248</td>\n",
       "      <td>0.321026</td>\n",
       "    </tr>\n",
       "    <tr>\n",
       "      <th>std</th>\n",
       "      <td>23.110205</td>\n",
       "      <td>0.297675</td>\n",
       "      <td>0.397921</td>\n",
       "      <td>0.258265</td>\n",
       "      <td>0.171686</td>\n",
       "      <td>0.161543</td>\n",
       "      <td>0.466873</td>\n",
       "    </tr>\n",
       "    <tr>\n",
       "      <th>min</th>\n",
       "      <td>-1.000000</td>\n",
       "      <td>0.000000</td>\n",
       "      <td>0.000000</td>\n",
       "      <td>0.000000</td>\n",
       "      <td>0.000000</td>\n",
       "      <td>0.000000</td>\n",
       "      <td>0.000000</td>\n",
       "    </tr>\n",
       "    <tr>\n",
       "      <th>25%</th>\n",
       "      <td>18.000000</td>\n",
       "      <td>0.000000</td>\n",
       "      <td>0.000000</td>\n",
       "      <td>0.000000</td>\n",
       "      <td>0.000000</td>\n",
       "      <td>0.000000</td>\n",
       "      <td>0.000000</td>\n",
       "    </tr>\n",
       "    <tr>\n",
       "      <th>50%</th>\n",
       "      <td>37.000000</td>\n",
       "      <td>0.000000</td>\n",
       "      <td>0.000000</td>\n",
       "      <td>0.000000</td>\n",
       "      <td>0.000000</td>\n",
       "      <td>0.000000</td>\n",
       "      <td>0.000000</td>\n",
       "    </tr>\n",
       "    <tr>\n",
       "      <th>75%</th>\n",
       "      <td>55.000000</td>\n",
       "      <td>0.000000</td>\n",
       "      <td>0.000000</td>\n",
       "      <td>0.000000</td>\n",
       "      <td>0.000000</td>\n",
       "      <td>0.000000</td>\n",
       "      <td>1.000000</td>\n",
       "    </tr>\n",
       "    <tr>\n",
       "      <th>max</th>\n",
       "      <td>115.000000</td>\n",
       "      <td>1.000000</td>\n",
       "      <td>1.000000</td>\n",
       "      <td>1.000000</td>\n",
       "      <td>1.000000</td>\n",
       "      <td>4.000000</td>\n",
       "      <td>1.000000</td>\n",
       "    </tr>\n",
       "  </tbody>\n",
       "</table>\n",
       "</div>"
      ],
      "text/plain": [
       "                 Age    Scholarship   Hipertension       Diabetes  \\\n",
       "count  110527.000000  110527.000000  110527.000000  110527.000000   \n",
       "mean       37.088874       0.098266       0.197246       0.071865   \n",
       "std        23.110205       0.297675       0.397921       0.258265   \n",
       "min        -1.000000       0.000000       0.000000       0.000000   \n",
       "25%        18.000000       0.000000       0.000000       0.000000   \n",
       "50%        37.000000       0.000000       0.000000       0.000000   \n",
       "75%        55.000000       0.000000       0.000000       0.000000   \n",
       "max       115.000000       1.000000       1.000000       1.000000   \n",
       "\n",
       "          Alcoholism        Handcap   SMS_received  \n",
       "count  110527.000000  110527.000000  110527.000000  \n",
       "mean        0.030400       0.022248       0.321026  \n",
       "std         0.171686       0.161543       0.466873  \n",
       "min         0.000000       0.000000       0.000000  \n",
       "25%         0.000000       0.000000       0.000000  \n",
       "50%         0.000000       0.000000       0.000000  \n",
       "75%         0.000000       0.000000       1.000000  \n",
       "max         1.000000       4.000000       1.000000  "
      ]
     },
     "execution_count": 13,
     "metadata": {},
     "output_type": "execute_result"
    }
   ],
   "source": [
    "df.describe()"
   ]
  },
  {
   "cell_type": "markdown",
   "metadata": {},
   "source": [
    "Create a error variable to store any errors in our age column"
   ]
  },
  {
   "cell_type": "code",
   "execution_count": 14,
   "metadata": {
    "scrolled": true
   },
   "outputs": [
    {
     "data": {
      "text/html": [
       "<div>\n",
       "<style scoped>\n",
       "    .dataframe tbody tr th:only-of-type {\n",
       "        vertical-align: middle;\n",
       "    }\n",
       "\n",
       "    .dataframe tbody tr th {\n",
       "        vertical-align: top;\n",
       "    }\n",
       "\n",
       "    .dataframe thead th {\n",
       "        text-align: right;\n",
       "    }\n",
       "</style>\n",
       "<table border=\"1\" class=\"dataframe\">\n",
       "  <thead>\n",
       "    <tr style=\"text-align: right;\">\n",
       "      <th></th>\n",
       "      <th>Gender</th>\n",
       "      <th>AppointmentDay</th>\n",
       "      <th>Age</th>\n",
       "      <th>Neighbourhood</th>\n",
       "      <th>Scholarship</th>\n",
       "      <th>Hipertension</th>\n",
       "      <th>Diabetes</th>\n",
       "      <th>Alcoholism</th>\n",
       "      <th>Handcap</th>\n",
       "      <th>SMS_received</th>\n",
       "      <th>No-show</th>\n",
       "    </tr>\n",
       "  </thead>\n",
       "  <tbody>\n",
       "    <tr>\n",
       "      <th>99832</th>\n",
       "      <td>F</td>\n",
       "      <td>2016-06-06T00:00:00Z</td>\n",
       "      <td>-1</td>\n",
       "      <td>ROMÃO</td>\n",
       "      <td>0</td>\n",
       "      <td>0</td>\n",
       "      <td>0</td>\n",
       "      <td>0</td>\n",
       "      <td>0</td>\n",
       "      <td>0</td>\n",
       "      <td>No</td>\n",
       "    </tr>\n",
       "  </tbody>\n",
       "</table>\n",
       "</div>"
      ],
      "text/plain": [
       "      Gender        AppointmentDay  Age Neighbourhood  Scholarship  \\\n",
       "99832      F  2016-06-06T00:00:00Z   -1         ROMÃO            0   \n",
       "\n",
       "       Hipertension  Diabetes  Alcoholism  Handcap  SMS_received No-show  \n",
       "99832             0         0           0        0             0      No  "
      ]
     },
     "execution_count": 14,
     "metadata": {},
     "output_type": "execute_result"
    }
   ],
   "source": [
    "age_error = df.query('Age < 0')\n",
    "age_error"
   ]
  },
  {
   "cell_type": "markdown",
   "metadata": {},
   "source": [
    "Only 1 error in age, so I will just drop this from the data frame"
   ]
  },
  {
   "cell_type": "code",
   "execution_count": 15,
   "metadata": {},
   "outputs": [],
   "source": [
    "df.drop(age_error.index, inplace=True)"
   ]
  },
  {
   "cell_type": "markdown",
   "metadata": {},
   "source": [
    "Confirm that there are no more errors"
   ]
  },
  {
   "cell_type": "code",
   "execution_count": 16,
   "metadata": {
    "scrolled": false
   },
   "outputs": [
    {
     "data": {
      "text/html": [
       "<div>\n",
       "<style scoped>\n",
       "    .dataframe tbody tr th:only-of-type {\n",
       "        vertical-align: middle;\n",
       "    }\n",
       "\n",
       "    .dataframe tbody tr th {\n",
       "        vertical-align: top;\n",
       "    }\n",
       "\n",
       "    .dataframe thead th {\n",
       "        text-align: right;\n",
       "    }\n",
       "</style>\n",
       "<table border=\"1\" class=\"dataframe\">\n",
       "  <thead>\n",
       "    <tr style=\"text-align: right;\">\n",
       "      <th></th>\n",
       "      <th>Gender</th>\n",
       "      <th>AppointmentDay</th>\n",
       "      <th>Age</th>\n",
       "      <th>Neighbourhood</th>\n",
       "      <th>Scholarship</th>\n",
       "      <th>Hipertension</th>\n",
       "      <th>Diabetes</th>\n",
       "      <th>Alcoholism</th>\n",
       "      <th>Handcap</th>\n",
       "      <th>SMS_received</th>\n",
       "      <th>No-show</th>\n",
       "    </tr>\n",
       "  </thead>\n",
       "  <tbody>\n",
       "  </tbody>\n",
       "</table>\n",
       "</div>"
      ],
      "text/plain": [
       "Empty DataFrame\n",
       "Columns: [Gender, AppointmentDay, Age, Neighbourhood, Scholarship, Hipertension, Diabetes, Alcoholism, Handcap, SMS_received, No-show]\n",
       "Index: []"
      ]
     },
     "execution_count": 16,
     "metadata": {},
     "output_type": "execute_result"
    }
   ],
   "source": [
    "df.query('Age < 0')"
   ]
  },
  {
   "cell_type": "markdown",
   "metadata": {},
   "source": [
    "Now I will make an age group variable to make the age easier to graph later"
   ]
  },
  {
   "cell_type": "code",
   "execution_count": 17,
   "metadata": {},
   "outputs": [],
   "source": [
    "df.loc[(df['Age'] <= 20), 'age_group'] = '20 years and younger'\n",
    "df.loc[(df['Age'] > 20)&(df['Age'] <= 40), 'age_group'] = 'between 20 and 40 years'\n",
    "df.loc[(df['Age'] > 40)&(df['Age'] <= 60), 'age_group'] = 'between 40 and 60 years'\n",
    "df.loc[(df['Age'] > 60), 'age_group'] = 'Older than 60'"
   ]
  },
  {
   "cell_type": "code",
   "execution_count": 18,
   "metadata": {},
   "outputs": [
    {
     "data": {
      "text/html": [
       "<div>\n",
       "<style scoped>\n",
       "    .dataframe tbody tr th:only-of-type {\n",
       "        vertical-align: middle;\n",
       "    }\n",
       "\n",
       "    .dataframe tbody tr th {\n",
       "        vertical-align: top;\n",
       "    }\n",
       "\n",
       "    .dataframe thead th {\n",
       "        text-align: right;\n",
       "    }\n",
       "</style>\n",
       "<table border=\"1\" class=\"dataframe\">\n",
       "  <thead>\n",
       "    <tr style=\"text-align: right;\">\n",
       "      <th></th>\n",
       "      <th>Gender</th>\n",
       "      <th>AppointmentDay</th>\n",
       "      <th>Age</th>\n",
       "      <th>Neighbourhood</th>\n",
       "      <th>Scholarship</th>\n",
       "      <th>Hipertension</th>\n",
       "      <th>Diabetes</th>\n",
       "      <th>Alcoholism</th>\n",
       "      <th>Handcap</th>\n",
       "      <th>SMS_received</th>\n",
       "      <th>No-show</th>\n",
       "      <th>age_group</th>\n",
       "    </tr>\n",
       "  </thead>\n",
       "  <tbody>\n",
       "    <tr>\n",
       "      <th>0</th>\n",
       "      <td>F</td>\n",
       "      <td>2016-04-29T00:00:00Z</td>\n",
       "      <td>62</td>\n",
       "      <td>JARDIM DA PENHA</td>\n",
       "      <td>0</td>\n",
       "      <td>1</td>\n",
       "      <td>0</td>\n",
       "      <td>0</td>\n",
       "      <td>0</td>\n",
       "      <td>0</td>\n",
       "      <td>No</td>\n",
       "      <td>Older than 60</td>\n",
       "    </tr>\n",
       "    <tr>\n",
       "      <th>1</th>\n",
       "      <td>M</td>\n",
       "      <td>2016-04-29T00:00:00Z</td>\n",
       "      <td>56</td>\n",
       "      <td>JARDIM DA PENHA</td>\n",
       "      <td>0</td>\n",
       "      <td>0</td>\n",
       "      <td>0</td>\n",
       "      <td>0</td>\n",
       "      <td>0</td>\n",
       "      <td>0</td>\n",
       "      <td>No</td>\n",
       "      <td>between 40 and 60 years</td>\n",
       "    </tr>\n",
       "    <tr>\n",
       "      <th>2</th>\n",
       "      <td>F</td>\n",
       "      <td>2016-04-29T00:00:00Z</td>\n",
       "      <td>62</td>\n",
       "      <td>MATA DA PRAIA</td>\n",
       "      <td>0</td>\n",
       "      <td>0</td>\n",
       "      <td>0</td>\n",
       "      <td>0</td>\n",
       "      <td>0</td>\n",
       "      <td>0</td>\n",
       "      <td>No</td>\n",
       "      <td>Older than 60</td>\n",
       "    </tr>\n",
       "    <tr>\n",
       "      <th>3</th>\n",
       "      <td>F</td>\n",
       "      <td>2016-04-29T00:00:00Z</td>\n",
       "      <td>8</td>\n",
       "      <td>PONTAL DE CAMBURI</td>\n",
       "      <td>0</td>\n",
       "      <td>0</td>\n",
       "      <td>0</td>\n",
       "      <td>0</td>\n",
       "      <td>0</td>\n",
       "      <td>0</td>\n",
       "      <td>No</td>\n",
       "      <td>20 years and younger</td>\n",
       "    </tr>\n",
       "    <tr>\n",
       "      <th>4</th>\n",
       "      <td>F</td>\n",
       "      <td>2016-04-29T00:00:00Z</td>\n",
       "      <td>56</td>\n",
       "      <td>JARDIM DA PENHA</td>\n",
       "      <td>0</td>\n",
       "      <td>1</td>\n",
       "      <td>1</td>\n",
       "      <td>0</td>\n",
       "      <td>0</td>\n",
       "      <td>0</td>\n",
       "      <td>No</td>\n",
       "      <td>between 40 and 60 years</td>\n",
       "    </tr>\n",
       "  </tbody>\n",
       "</table>\n",
       "</div>"
      ],
      "text/plain": [
       "  Gender        AppointmentDay  Age      Neighbourhood  Scholarship  \\\n",
       "0      F  2016-04-29T00:00:00Z   62    JARDIM DA PENHA            0   \n",
       "1      M  2016-04-29T00:00:00Z   56    JARDIM DA PENHA            0   \n",
       "2      F  2016-04-29T00:00:00Z   62      MATA DA PRAIA            0   \n",
       "3      F  2016-04-29T00:00:00Z    8  PONTAL DE CAMBURI            0   \n",
       "4      F  2016-04-29T00:00:00Z   56    JARDIM DA PENHA            0   \n",
       "\n",
       "   Hipertension  Diabetes  Alcoholism  Handcap  SMS_received No-show  \\\n",
       "0             1         0           0        0             0      No   \n",
       "1             0         0           0        0             0      No   \n",
       "2             0         0           0        0             0      No   \n",
       "3             0         0           0        0             0      No   \n",
       "4             1         1           0        0             0      No   \n",
       "\n",
       "                 age_group  \n",
       "0            Older than 60  \n",
       "1  between 40 and 60 years  \n",
       "2            Older than 60  \n",
       "3     20 years and younger  \n",
       "4  between 40 and 60 years  "
      ]
     },
     "execution_count": 18,
     "metadata": {},
     "output_type": "execute_result"
    }
   ],
   "source": [
    "df.head()"
   ]
  },
  {
   "cell_type": "markdown",
   "metadata": {},
   "source": [
    "Next I will make the appointment day into the day of week"
   ]
  },
  {
   "cell_type": "code",
   "execution_count": 19,
   "metadata": {},
   "outputs": [
    {
     "name": "stdout",
     "output_type": "stream",
     "text": [
      "object\n"
     ]
    }
   ],
   "source": [
    "print(df['AppointmentDay'].dtypes)"
   ]
  },
  {
   "cell_type": "markdown",
   "metadata": {},
   "source": [
    "Create a new variable for day of the week of the appointment\n",
    "[page on dt.day_name](https://pandas.pydata.org/docs/reference/api/pandas.Series.dt.day_name.html)"
   ]
  },
  {
   "cell_type": "code",
   "execution_count": 20,
   "metadata": {},
   "outputs": [],
   "source": [
    "df['Day_of_appoint'] = pd.to_datetime(df['AppointmentDay']).dt.day_name()"
   ]
  },
  {
   "cell_type": "markdown",
   "metadata": {},
   "source": [
    "Inspect the new column"
   ]
  },
  {
   "cell_type": "code",
   "execution_count": 21,
   "metadata": {
    "scrolled": true
   },
   "outputs": [
    {
     "data": {
      "text/plain": [
       "0    Friday\n",
       "1    Friday\n",
       "2    Friday\n",
       "3    Friday\n",
       "4    Friday\n",
       "Name: Day_of_appoint, dtype: object"
      ]
     },
     "execution_count": 21,
     "metadata": {},
     "output_type": "execute_result"
    }
   ],
   "source": [
    "df[\"Day_of_appoint\"].head()"
   ]
  },
  {
   "cell_type": "code",
   "execution_count": 22,
   "metadata": {
    "scrolled": false
   },
   "outputs": [
    {
     "data": {
      "text/plain": [
       "Wednesday    25867\n",
       "Tuesday      25640\n",
       "Monday       22714\n",
       "Friday       19019\n",
       "Thursday     17247\n",
       "Saturday        39\n",
       "Name: Day_of_appoint, dtype: int64"
      ]
     },
     "execution_count": 22,
     "metadata": {},
     "output_type": "execute_result"
    }
   ],
   "source": [
    "df['Day_of_appoint'].value_counts()"
   ]
  },
  {
   "cell_type": "markdown",
   "metadata": {},
   "source": [
    "With only 39 appointments on Saturday, we will drop these from the data set, as the next lowest is 17247 appointments.\n",
    "First, I create a variable to collect the error in the data."
   ]
  },
  {
   "cell_type": "code",
   "execution_count": 22,
   "metadata": {},
   "outputs": [
    {
     "data": {
      "text/html": [
       "<div>\n",
       "<style scoped>\n",
       "    .dataframe tbody tr th:only-of-type {\n",
       "        vertical-align: middle;\n",
       "    }\n",
       "\n",
       "    .dataframe tbody tr th {\n",
       "        vertical-align: top;\n",
       "    }\n",
       "\n",
       "    .dataframe thead th {\n",
       "        text-align: right;\n",
       "    }\n",
       "</style>\n",
       "<table border=\"1\" class=\"dataframe\">\n",
       "  <thead>\n",
       "    <tr style=\"text-align: right;\">\n",
       "      <th></th>\n",
       "      <th>Gender</th>\n",
       "      <th>AppointmentDay</th>\n",
       "      <th>Age</th>\n",
       "      <th>Neighbourhood</th>\n",
       "      <th>Scholarship</th>\n",
       "      <th>Hipertension</th>\n",
       "      <th>Diabetes</th>\n",
       "      <th>Alcoholism</th>\n",
       "      <th>Handcap</th>\n",
       "      <th>SMS_received</th>\n",
       "      <th>No-show</th>\n",
       "      <th>age_group</th>\n",
       "      <th>Day_of_appoint</th>\n",
       "    </tr>\n",
       "  </thead>\n",
       "  <tbody>\n",
       "    <tr>\n",
       "      <th>72295</th>\n",
       "      <td>F</td>\n",
       "      <td>2016-05-14T00:00:00Z</td>\n",
       "      <td>60</td>\n",
       "      <td>SANTO ANTÔNIO</td>\n",
       "      <td>0</td>\n",
       "      <td>0</td>\n",
       "      <td>0</td>\n",
       "      <td>0</td>\n",
       "      <td>0</td>\n",
       "      <td>1</td>\n",
       "      <td>No</td>\n",
       "      <td>between 40 and 60 years</td>\n",
       "      <td>Saturday</td>\n",
       "    </tr>\n",
       "    <tr>\n",
       "      <th>72296</th>\n",
       "      <td>M</td>\n",
       "      <td>2016-05-14T00:00:00Z</td>\n",
       "      <td>56</td>\n",
       "      <td>CARATOÍRA</td>\n",
       "      <td>0</td>\n",
       "      <td>0</td>\n",
       "      <td>0</td>\n",
       "      <td>0</td>\n",
       "      <td>0</td>\n",
       "      <td>0</td>\n",
       "      <td>Yes</td>\n",
       "      <td>between 40 and 60 years</td>\n",
       "      <td>Saturday</td>\n",
       "    </tr>\n",
       "    <tr>\n",
       "      <th>72297</th>\n",
       "      <td>F</td>\n",
       "      <td>2016-05-14T00:00:00Z</td>\n",
       "      <td>27</td>\n",
       "      <td>CARATOÍRA</td>\n",
       "      <td>1</td>\n",
       "      <td>0</td>\n",
       "      <td>0</td>\n",
       "      <td>0</td>\n",
       "      <td>0</td>\n",
       "      <td>1</td>\n",
       "      <td>No</td>\n",
       "      <td>between 20 and 40 years</td>\n",
       "      <td>Saturday</td>\n",
       "    </tr>\n",
       "    <tr>\n",
       "      <th>72298</th>\n",
       "      <td>M</td>\n",
       "      <td>2016-05-14T00:00:00Z</td>\n",
       "      <td>75</td>\n",
       "      <td>CARATOÍRA</td>\n",
       "      <td>0</td>\n",
       "      <td>1</td>\n",
       "      <td>1</td>\n",
       "      <td>0</td>\n",
       "      <td>0</td>\n",
       "      <td>0</td>\n",
       "      <td>No</td>\n",
       "      <td>Older than 60</td>\n",
       "      <td>Saturday</td>\n",
       "    </tr>\n",
       "    <tr>\n",
       "      <th>72299</th>\n",
       "      <td>F</td>\n",
       "      <td>2016-05-14T00:00:00Z</td>\n",
       "      <td>67</td>\n",
       "      <td>CARATOÍRA</td>\n",
       "      <td>0</td>\n",
       "      <td>0</td>\n",
       "      <td>0</td>\n",
       "      <td>0</td>\n",
       "      <td>0</td>\n",
       "      <td>1</td>\n",
       "      <td>No</td>\n",
       "      <td>Older than 60</td>\n",
       "      <td>Saturday</td>\n",
       "    </tr>\n",
       "    <tr>\n",
       "      <th>72300</th>\n",
       "      <td>F</td>\n",
       "      <td>2016-05-14T00:00:00Z</td>\n",
       "      <td>72</td>\n",
       "      <td>CARATOÍRA</td>\n",
       "      <td>0</td>\n",
       "      <td>1</td>\n",
       "      <td>1</td>\n",
       "      <td>0</td>\n",
       "      <td>0</td>\n",
       "      <td>1</td>\n",
       "      <td>No</td>\n",
       "      <td>Older than 60</td>\n",
       "      <td>Saturday</td>\n",
       "    </tr>\n",
       "    <tr>\n",
       "      <th>72301</th>\n",
       "      <td>M</td>\n",
       "      <td>2016-05-14T00:00:00Z</td>\n",
       "      <td>52</td>\n",
       "      <td>CARATOÍRA</td>\n",
       "      <td>0</td>\n",
       "      <td>0</td>\n",
       "      <td>1</td>\n",
       "      <td>0</td>\n",
       "      <td>0</td>\n",
       "      <td>1</td>\n",
       "      <td>No</td>\n",
       "      <td>between 40 and 60 years</td>\n",
       "      <td>Saturday</td>\n",
       "    </tr>\n",
       "    <tr>\n",
       "      <th>72302</th>\n",
       "      <td>M</td>\n",
       "      <td>2016-05-14T00:00:00Z</td>\n",
       "      <td>31</td>\n",
       "      <td>ARIOVALDO FAVALESSA</td>\n",
       "      <td>0</td>\n",
       "      <td>0</td>\n",
       "      <td>0</td>\n",
       "      <td>0</td>\n",
       "      <td>1</td>\n",
       "      <td>1</td>\n",
       "      <td>No</td>\n",
       "      <td>between 20 and 40 years</td>\n",
       "      <td>Saturday</td>\n",
       "    </tr>\n",
       "    <tr>\n",
       "      <th>72303</th>\n",
       "      <td>F</td>\n",
       "      <td>2016-05-14T00:00:00Z</td>\n",
       "      <td>52</td>\n",
       "      <td>ARIOVALDO FAVALESSA</td>\n",
       "      <td>0</td>\n",
       "      <td>0</td>\n",
       "      <td>0</td>\n",
       "      <td>0</td>\n",
       "      <td>0</td>\n",
       "      <td>0</td>\n",
       "      <td>No</td>\n",
       "      <td>between 40 and 60 years</td>\n",
       "      <td>Saturday</td>\n",
       "    </tr>\n",
       "    <tr>\n",
       "      <th>72304</th>\n",
       "      <td>F</td>\n",
       "      <td>2016-05-14T00:00:00Z</td>\n",
       "      <td>58</td>\n",
       "      <td>CARATOÍRA</td>\n",
       "      <td>0</td>\n",
       "      <td>0</td>\n",
       "      <td>0</td>\n",
       "      <td>0</td>\n",
       "      <td>0</td>\n",
       "      <td>1</td>\n",
       "      <td>No</td>\n",
       "      <td>between 40 and 60 years</td>\n",
       "      <td>Saturday</td>\n",
       "    </tr>\n",
       "    <tr>\n",
       "      <th>72305</th>\n",
       "      <td>F</td>\n",
       "      <td>2016-05-14T00:00:00Z</td>\n",
       "      <td>34</td>\n",
       "      <td>CARATOÍRA</td>\n",
       "      <td>1</td>\n",
       "      <td>0</td>\n",
       "      <td>0</td>\n",
       "      <td>0</td>\n",
       "      <td>0</td>\n",
       "      <td>0</td>\n",
       "      <td>No</td>\n",
       "      <td>between 20 and 40 years</td>\n",
       "      <td>Saturday</td>\n",
       "    </tr>\n",
       "    <tr>\n",
       "      <th>72306</th>\n",
       "      <td>F</td>\n",
       "      <td>2016-05-14T00:00:00Z</td>\n",
       "      <td>48</td>\n",
       "      <td>CARATOÍRA</td>\n",
       "      <td>0</td>\n",
       "      <td>1</td>\n",
       "      <td>0</td>\n",
       "      <td>0</td>\n",
       "      <td>0</td>\n",
       "      <td>1</td>\n",
       "      <td>No</td>\n",
       "      <td>between 40 and 60 years</td>\n",
       "      <td>Saturday</td>\n",
       "    </tr>\n",
       "    <tr>\n",
       "      <th>72307</th>\n",
       "      <td>F</td>\n",
       "      <td>2016-05-14T00:00:00Z</td>\n",
       "      <td>20</td>\n",
       "      <td>CARATOÍRA</td>\n",
       "      <td>0</td>\n",
       "      <td>0</td>\n",
       "      <td>0</td>\n",
       "      <td>0</td>\n",
       "      <td>0</td>\n",
       "      <td>1</td>\n",
       "      <td>No</td>\n",
       "      <td>20 years and younger</td>\n",
       "      <td>Saturday</td>\n",
       "    </tr>\n",
       "    <tr>\n",
       "      <th>72308</th>\n",
       "      <td>M</td>\n",
       "      <td>2016-05-14T00:00:00Z</td>\n",
       "      <td>72</td>\n",
       "      <td>ARIOVALDO FAVALESSA</td>\n",
       "      <td>0</td>\n",
       "      <td>1</td>\n",
       "      <td>0</td>\n",
       "      <td>0</td>\n",
       "      <td>0</td>\n",
       "      <td>0</td>\n",
       "      <td>No</td>\n",
       "      <td>Older than 60</td>\n",
       "      <td>Saturday</td>\n",
       "    </tr>\n",
       "    <tr>\n",
       "      <th>72309</th>\n",
       "      <td>F</td>\n",
       "      <td>2016-05-14T00:00:00Z</td>\n",
       "      <td>87</td>\n",
       "      <td>CARATOÍRA</td>\n",
       "      <td>0</td>\n",
       "      <td>1</td>\n",
       "      <td>0</td>\n",
       "      <td>0</td>\n",
       "      <td>0</td>\n",
       "      <td>0</td>\n",
       "      <td>Yes</td>\n",
       "      <td>Older than 60</td>\n",
       "      <td>Saturday</td>\n",
       "    </tr>\n",
       "    <tr>\n",
       "      <th>72310</th>\n",
       "      <td>M</td>\n",
       "      <td>2016-05-14T00:00:00Z</td>\n",
       "      <td>52</td>\n",
       "      <td>ARIOVALDO FAVALESSA</td>\n",
       "      <td>0</td>\n",
       "      <td>1</td>\n",
       "      <td>0</td>\n",
       "      <td>0</td>\n",
       "      <td>0</td>\n",
       "      <td>0</td>\n",
       "      <td>No</td>\n",
       "      <td>between 40 and 60 years</td>\n",
       "      <td>Saturday</td>\n",
       "    </tr>\n",
       "    <tr>\n",
       "      <th>72311</th>\n",
       "      <td>M</td>\n",
       "      <td>2016-05-14T00:00:00Z</td>\n",
       "      <td>37</td>\n",
       "      <td>CARATOÍRA</td>\n",
       "      <td>0</td>\n",
       "      <td>0</td>\n",
       "      <td>0</td>\n",
       "      <td>0</td>\n",
       "      <td>0</td>\n",
       "      <td>0</td>\n",
       "      <td>Yes</td>\n",
       "      <td>between 20 and 40 years</td>\n",
       "      <td>Saturday</td>\n",
       "    </tr>\n",
       "    <tr>\n",
       "      <th>72312</th>\n",
       "      <td>F</td>\n",
       "      <td>2016-05-14T00:00:00Z</td>\n",
       "      <td>66</td>\n",
       "      <td>CARATOÍRA</td>\n",
       "      <td>0</td>\n",
       "      <td>1</td>\n",
       "      <td>0</td>\n",
       "      <td>0</td>\n",
       "      <td>0</td>\n",
       "      <td>1</td>\n",
       "      <td>No</td>\n",
       "      <td>Older than 60</td>\n",
       "      <td>Saturday</td>\n",
       "    </tr>\n",
       "    <tr>\n",
       "      <th>72313</th>\n",
       "      <td>F</td>\n",
       "      <td>2016-05-14T00:00:00Z</td>\n",
       "      <td>51</td>\n",
       "      <td>CARATOÍRA</td>\n",
       "      <td>0</td>\n",
       "      <td>0</td>\n",
       "      <td>0</td>\n",
       "      <td>0</td>\n",
       "      <td>0</td>\n",
       "      <td>0</td>\n",
       "      <td>No</td>\n",
       "      <td>between 40 and 60 years</td>\n",
       "      <td>Saturday</td>\n",
       "    </tr>\n",
       "    <tr>\n",
       "      <th>72314</th>\n",
       "      <td>F</td>\n",
       "      <td>2016-05-14T00:00:00Z</td>\n",
       "      <td>64</td>\n",
       "      <td>SANTO ANTÔNIO</td>\n",
       "      <td>0</td>\n",
       "      <td>0</td>\n",
       "      <td>0</td>\n",
       "      <td>0</td>\n",
       "      <td>0</td>\n",
       "      <td>1</td>\n",
       "      <td>Yes</td>\n",
       "      <td>Older than 60</td>\n",
       "      <td>Saturday</td>\n",
       "    </tr>\n",
       "    <tr>\n",
       "      <th>72315</th>\n",
       "      <td>F</td>\n",
       "      <td>2016-05-14T00:00:00Z</td>\n",
       "      <td>34</td>\n",
       "      <td>CARATOÍRA</td>\n",
       "      <td>0</td>\n",
       "      <td>0</td>\n",
       "      <td>0</td>\n",
       "      <td>0</td>\n",
       "      <td>0</td>\n",
       "      <td>1</td>\n",
       "      <td>Yes</td>\n",
       "      <td>between 20 and 40 years</td>\n",
       "      <td>Saturday</td>\n",
       "    </tr>\n",
       "    <tr>\n",
       "      <th>72316</th>\n",
       "      <td>F</td>\n",
       "      <td>2016-05-14T00:00:00Z</td>\n",
       "      <td>59</td>\n",
       "      <td>ARIOVALDO FAVALESSA</td>\n",
       "      <td>0</td>\n",
       "      <td>1</td>\n",
       "      <td>0</td>\n",
       "      <td>0</td>\n",
       "      <td>0</td>\n",
       "      <td>0</td>\n",
       "      <td>No</td>\n",
       "      <td>between 40 and 60 years</td>\n",
       "      <td>Saturday</td>\n",
       "    </tr>\n",
       "    <tr>\n",
       "      <th>72317</th>\n",
       "      <td>F</td>\n",
       "      <td>2016-05-14T00:00:00Z</td>\n",
       "      <td>59</td>\n",
       "      <td>CARATOÍRA</td>\n",
       "      <td>0</td>\n",
       "      <td>0</td>\n",
       "      <td>0</td>\n",
       "      <td>0</td>\n",
       "      <td>0</td>\n",
       "      <td>0</td>\n",
       "      <td>No</td>\n",
       "      <td>between 40 and 60 years</td>\n",
       "      <td>Saturday</td>\n",
       "    </tr>\n",
       "    <tr>\n",
       "      <th>72318</th>\n",
       "      <td>F</td>\n",
       "      <td>2016-05-14T00:00:00Z</td>\n",
       "      <td>46</td>\n",
       "      <td>CARATOÍRA</td>\n",
       "      <td>1</td>\n",
       "      <td>0</td>\n",
       "      <td>0</td>\n",
       "      <td>0</td>\n",
       "      <td>0</td>\n",
       "      <td>0</td>\n",
       "      <td>No</td>\n",
       "      <td>between 40 and 60 years</td>\n",
       "      <td>Saturday</td>\n",
       "    </tr>\n",
       "    <tr>\n",
       "      <th>72319</th>\n",
       "      <td>M</td>\n",
       "      <td>2016-05-14T00:00:00Z</td>\n",
       "      <td>62</td>\n",
       "      <td>CARATOÍRA</td>\n",
       "      <td>0</td>\n",
       "      <td>1</td>\n",
       "      <td>0</td>\n",
       "      <td>1</td>\n",
       "      <td>0</td>\n",
       "      <td>0</td>\n",
       "      <td>No</td>\n",
       "      <td>Older than 60</td>\n",
       "      <td>Saturday</td>\n",
       "    </tr>\n",
       "    <tr>\n",
       "      <th>72320</th>\n",
       "      <td>F</td>\n",
       "      <td>2016-05-14T00:00:00Z</td>\n",
       "      <td>56</td>\n",
       "      <td>CARATOÍRA</td>\n",
       "      <td>0</td>\n",
       "      <td>1</td>\n",
       "      <td>0</td>\n",
       "      <td>0</td>\n",
       "      <td>0</td>\n",
       "      <td>0</td>\n",
       "      <td>No</td>\n",
       "      <td>between 40 and 60 years</td>\n",
       "      <td>Saturday</td>\n",
       "    </tr>\n",
       "    <tr>\n",
       "      <th>72321</th>\n",
       "      <td>F</td>\n",
       "      <td>2016-05-14T00:00:00Z</td>\n",
       "      <td>35</td>\n",
       "      <td>CARATOÍRA</td>\n",
       "      <td>0</td>\n",
       "      <td>0</td>\n",
       "      <td>0</td>\n",
       "      <td>1</td>\n",
       "      <td>0</td>\n",
       "      <td>0</td>\n",
       "      <td>No</td>\n",
       "      <td>between 20 and 40 years</td>\n",
       "      <td>Saturday</td>\n",
       "    </tr>\n",
       "    <tr>\n",
       "      <th>72322</th>\n",
       "      <td>F</td>\n",
       "      <td>2016-05-14T00:00:00Z</td>\n",
       "      <td>29</td>\n",
       "      <td>DO QUADRO</td>\n",
       "      <td>0</td>\n",
       "      <td>0</td>\n",
       "      <td>0</td>\n",
       "      <td>0</td>\n",
       "      <td>0</td>\n",
       "      <td>0</td>\n",
       "      <td>No</td>\n",
       "      <td>between 20 and 40 years</td>\n",
       "      <td>Saturday</td>\n",
       "    </tr>\n",
       "    <tr>\n",
       "      <th>72323</th>\n",
       "      <td>F</td>\n",
       "      <td>2016-05-14T00:00:00Z</td>\n",
       "      <td>67</td>\n",
       "      <td>CARATOÍRA</td>\n",
       "      <td>0</td>\n",
       "      <td>0</td>\n",
       "      <td>0</td>\n",
       "      <td>0</td>\n",
       "      <td>0</td>\n",
       "      <td>0</td>\n",
       "      <td>No</td>\n",
       "      <td>Older than 60</td>\n",
       "      <td>Saturday</td>\n",
       "    </tr>\n",
       "    <tr>\n",
       "      <th>72324</th>\n",
       "      <td>F</td>\n",
       "      <td>2016-05-14T00:00:00Z</td>\n",
       "      <td>40</td>\n",
       "      <td>CARATOÍRA</td>\n",
       "      <td>0</td>\n",
       "      <td>1</td>\n",
       "      <td>0</td>\n",
       "      <td>0</td>\n",
       "      <td>0</td>\n",
       "      <td>0</td>\n",
       "      <td>No</td>\n",
       "      <td>between 20 and 40 years</td>\n",
       "      <td>Saturday</td>\n",
       "    </tr>\n",
       "    <tr>\n",
       "      <th>72325</th>\n",
       "      <td>F</td>\n",
       "      <td>2016-05-14T00:00:00Z</td>\n",
       "      <td>18</td>\n",
       "      <td>CARATOÍRA</td>\n",
       "      <td>0</td>\n",
       "      <td>0</td>\n",
       "      <td>0</td>\n",
       "      <td>0</td>\n",
       "      <td>0</td>\n",
       "      <td>1</td>\n",
       "      <td>Yes</td>\n",
       "      <td>20 years and younger</td>\n",
       "      <td>Saturday</td>\n",
       "    </tr>\n",
       "    <tr>\n",
       "      <th>72326</th>\n",
       "      <td>F</td>\n",
       "      <td>2016-05-14T00:00:00Z</td>\n",
       "      <td>44</td>\n",
       "      <td>CARATOÍRA</td>\n",
       "      <td>0</td>\n",
       "      <td>1</td>\n",
       "      <td>0</td>\n",
       "      <td>0</td>\n",
       "      <td>0</td>\n",
       "      <td>0</td>\n",
       "      <td>No</td>\n",
       "      <td>between 40 and 60 years</td>\n",
       "      <td>Saturday</td>\n",
       "    </tr>\n",
       "    <tr>\n",
       "      <th>72327</th>\n",
       "      <td>F</td>\n",
       "      <td>2016-05-14T00:00:00Z</td>\n",
       "      <td>77</td>\n",
       "      <td>CARATOÍRA</td>\n",
       "      <td>0</td>\n",
       "      <td>1</td>\n",
       "      <td>1</td>\n",
       "      <td>0</td>\n",
       "      <td>0</td>\n",
       "      <td>0</td>\n",
       "      <td>Yes</td>\n",
       "      <td>Older than 60</td>\n",
       "      <td>Saturday</td>\n",
       "    </tr>\n",
       "    <tr>\n",
       "      <th>72328</th>\n",
       "      <td>F</td>\n",
       "      <td>2016-05-14T00:00:00Z</td>\n",
       "      <td>79</td>\n",
       "      <td>CARATOÍRA</td>\n",
       "      <td>0</td>\n",
       "      <td>1</td>\n",
       "      <td>1</td>\n",
       "      <td>0</td>\n",
       "      <td>0</td>\n",
       "      <td>0</td>\n",
       "      <td>No</td>\n",
       "      <td>Older than 60</td>\n",
       "      <td>Saturday</td>\n",
       "    </tr>\n",
       "    <tr>\n",
       "      <th>72329</th>\n",
       "      <td>F</td>\n",
       "      <td>2016-05-14T00:00:00Z</td>\n",
       "      <td>58</td>\n",
       "      <td>CARATOÍRA</td>\n",
       "      <td>0</td>\n",
       "      <td>1</td>\n",
       "      <td>0</td>\n",
       "      <td>0</td>\n",
       "      <td>0</td>\n",
       "      <td>0</td>\n",
       "      <td>Yes</td>\n",
       "      <td>between 40 and 60 years</td>\n",
       "      <td>Saturday</td>\n",
       "    </tr>\n",
       "    <tr>\n",
       "      <th>72330</th>\n",
       "      <td>M</td>\n",
       "      <td>2016-05-14T00:00:00Z</td>\n",
       "      <td>69</td>\n",
       "      <td>CARATOÍRA</td>\n",
       "      <td>0</td>\n",
       "      <td>1</td>\n",
       "      <td>1</td>\n",
       "      <td>0</td>\n",
       "      <td>0</td>\n",
       "      <td>0</td>\n",
       "      <td>No</td>\n",
       "      <td>Older than 60</td>\n",
       "      <td>Saturday</td>\n",
       "    </tr>\n",
       "    <tr>\n",
       "      <th>72331</th>\n",
       "      <td>F</td>\n",
       "      <td>2016-05-14T00:00:00Z</td>\n",
       "      <td>63</td>\n",
       "      <td>CARATOÍRA</td>\n",
       "      <td>0</td>\n",
       "      <td>1</td>\n",
       "      <td>1</td>\n",
       "      <td>0</td>\n",
       "      <td>0</td>\n",
       "      <td>0</td>\n",
       "      <td>Yes</td>\n",
       "      <td>Older than 60</td>\n",
       "      <td>Saturday</td>\n",
       "    </tr>\n",
       "    <tr>\n",
       "      <th>72332</th>\n",
       "      <td>F</td>\n",
       "      <td>2016-05-14T00:00:00Z</td>\n",
       "      <td>58</td>\n",
       "      <td>CARATOÍRA</td>\n",
       "      <td>0</td>\n",
       "      <td>1</td>\n",
       "      <td>0</td>\n",
       "      <td>0</td>\n",
       "      <td>0</td>\n",
       "      <td>0</td>\n",
       "      <td>No</td>\n",
       "      <td>between 40 and 60 years</td>\n",
       "      <td>Saturday</td>\n",
       "    </tr>\n",
       "    <tr>\n",
       "      <th>72333</th>\n",
       "      <td>M</td>\n",
       "      <td>2016-05-14T00:00:00Z</td>\n",
       "      <td>56</td>\n",
       "      <td>SANTO ANTÔNIO</td>\n",
       "      <td>0</td>\n",
       "      <td>1</td>\n",
       "      <td>0</td>\n",
       "      <td>0</td>\n",
       "      <td>0</td>\n",
       "      <td>0</td>\n",
       "      <td>No</td>\n",
       "      <td>between 40 and 60 years</td>\n",
       "      <td>Saturday</td>\n",
       "    </tr>\n",
       "  </tbody>\n",
       "</table>\n",
       "</div>"
      ],
      "text/plain": [
       "      Gender        AppointmentDay  Age        Neighbourhood  Scholarship  \\\n",
       "72295      F  2016-05-14T00:00:00Z   60        SANTO ANTÔNIO            0   \n",
       "72296      M  2016-05-14T00:00:00Z   56            CARATOÍRA            0   \n",
       "72297      F  2016-05-14T00:00:00Z   27            CARATOÍRA            1   \n",
       "72298      M  2016-05-14T00:00:00Z   75            CARATOÍRA            0   \n",
       "72299      F  2016-05-14T00:00:00Z   67            CARATOÍRA            0   \n",
       "72300      F  2016-05-14T00:00:00Z   72            CARATOÍRA            0   \n",
       "72301      M  2016-05-14T00:00:00Z   52            CARATOÍRA            0   \n",
       "72302      M  2016-05-14T00:00:00Z   31  ARIOVALDO FAVALESSA            0   \n",
       "72303      F  2016-05-14T00:00:00Z   52  ARIOVALDO FAVALESSA            0   \n",
       "72304      F  2016-05-14T00:00:00Z   58            CARATOÍRA            0   \n",
       "72305      F  2016-05-14T00:00:00Z   34            CARATOÍRA            1   \n",
       "72306      F  2016-05-14T00:00:00Z   48            CARATOÍRA            0   \n",
       "72307      F  2016-05-14T00:00:00Z   20            CARATOÍRA            0   \n",
       "72308      M  2016-05-14T00:00:00Z   72  ARIOVALDO FAVALESSA            0   \n",
       "72309      F  2016-05-14T00:00:00Z   87            CARATOÍRA            0   \n",
       "72310      M  2016-05-14T00:00:00Z   52  ARIOVALDO FAVALESSA            0   \n",
       "72311      M  2016-05-14T00:00:00Z   37            CARATOÍRA            0   \n",
       "72312      F  2016-05-14T00:00:00Z   66            CARATOÍRA            0   \n",
       "72313      F  2016-05-14T00:00:00Z   51            CARATOÍRA            0   \n",
       "72314      F  2016-05-14T00:00:00Z   64        SANTO ANTÔNIO            0   \n",
       "72315      F  2016-05-14T00:00:00Z   34            CARATOÍRA            0   \n",
       "72316      F  2016-05-14T00:00:00Z   59  ARIOVALDO FAVALESSA            0   \n",
       "72317      F  2016-05-14T00:00:00Z   59            CARATOÍRA            0   \n",
       "72318      F  2016-05-14T00:00:00Z   46            CARATOÍRA            1   \n",
       "72319      M  2016-05-14T00:00:00Z   62            CARATOÍRA            0   \n",
       "72320      F  2016-05-14T00:00:00Z   56            CARATOÍRA            0   \n",
       "72321      F  2016-05-14T00:00:00Z   35            CARATOÍRA            0   \n",
       "72322      F  2016-05-14T00:00:00Z   29            DO QUADRO            0   \n",
       "72323      F  2016-05-14T00:00:00Z   67            CARATOÍRA            0   \n",
       "72324      F  2016-05-14T00:00:00Z   40            CARATOÍRA            0   \n",
       "72325      F  2016-05-14T00:00:00Z   18            CARATOÍRA            0   \n",
       "72326      F  2016-05-14T00:00:00Z   44            CARATOÍRA            0   \n",
       "72327      F  2016-05-14T00:00:00Z   77            CARATOÍRA            0   \n",
       "72328      F  2016-05-14T00:00:00Z   79            CARATOÍRA            0   \n",
       "72329      F  2016-05-14T00:00:00Z   58            CARATOÍRA            0   \n",
       "72330      M  2016-05-14T00:00:00Z   69            CARATOÍRA            0   \n",
       "72331      F  2016-05-14T00:00:00Z   63            CARATOÍRA            0   \n",
       "72332      F  2016-05-14T00:00:00Z   58            CARATOÍRA            0   \n",
       "72333      M  2016-05-14T00:00:00Z   56        SANTO ANTÔNIO            0   \n",
       "\n",
       "       Hipertension  Diabetes  Alcoholism  Handcap  SMS_received No-show  \\\n",
       "72295             0         0           0        0             1      No   \n",
       "72296             0         0           0        0             0     Yes   \n",
       "72297             0         0           0        0             1      No   \n",
       "72298             1         1           0        0             0      No   \n",
       "72299             0         0           0        0             1      No   \n",
       "72300             1         1           0        0             1      No   \n",
       "72301             0         1           0        0             1      No   \n",
       "72302             0         0           0        1             1      No   \n",
       "72303             0         0           0        0             0      No   \n",
       "72304             0         0           0        0             1      No   \n",
       "72305             0         0           0        0             0      No   \n",
       "72306             1         0           0        0             1      No   \n",
       "72307             0         0           0        0             1      No   \n",
       "72308             1         0           0        0             0      No   \n",
       "72309             1         0           0        0             0     Yes   \n",
       "72310             1         0           0        0             0      No   \n",
       "72311             0         0           0        0             0     Yes   \n",
       "72312             1         0           0        0             1      No   \n",
       "72313             0         0           0        0             0      No   \n",
       "72314             0         0           0        0             1     Yes   \n",
       "72315             0         0           0        0             1     Yes   \n",
       "72316             1         0           0        0             0      No   \n",
       "72317             0         0           0        0             0      No   \n",
       "72318             0         0           0        0             0      No   \n",
       "72319             1         0           1        0             0      No   \n",
       "72320             1         0           0        0             0      No   \n",
       "72321             0         0           1        0             0      No   \n",
       "72322             0         0           0        0             0      No   \n",
       "72323             0         0           0        0             0      No   \n",
       "72324             1         0           0        0             0      No   \n",
       "72325             0         0           0        0             1     Yes   \n",
       "72326             1         0           0        0             0      No   \n",
       "72327             1         1           0        0             0     Yes   \n",
       "72328             1         1           0        0             0      No   \n",
       "72329             1         0           0        0             0     Yes   \n",
       "72330             1         1           0        0             0      No   \n",
       "72331             1         1           0        0             0     Yes   \n",
       "72332             1         0           0        0             0      No   \n",
       "72333             1         0           0        0             0      No   \n",
       "\n",
       "                     age_group Day_of_appoint  \n",
       "72295  between 40 and 60 years       Saturday  \n",
       "72296  between 40 and 60 years       Saturday  \n",
       "72297  between 20 and 40 years       Saturday  \n",
       "72298            Older than 60       Saturday  \n",
       "72299            Older than 60       Saturday  \n",
       "72300            Older than 60       Saturday  \n",
       "72301  between 40 and 60 years       Saturday  \n",
       "72302  between 20 and 40 years       Saturday  \n",
       "72303  between 40 and 60 years       Saturday  \n",
       "72304  between 40 and 60 years       Saturday  \n",
       "72305  between 20 and 40 years       Saturday  \n",
       "72306  between 40 and 60 years       Saturday  \n",
       "72307     20 years and younger       Saturday  \n",
       "72308            Older than 60       Saturday  \n",
       "72309            Older than 60       Saturday  \n",
       "72310  between 40 and 60 years       Saturday  \n",
       "72311  between 20 and 40 years       Saturday  \n",
       "72312            Older than 60       Saturday  \n",
       "72313  between 40 and 60 years       Saturday  \n",
       "72314            Older than 60       Saturday  \n",
       "72315  between 20 and 40 years       Saturday  \n",
       "72316  between 40 and 60 years       Saturday  \n",
       "72317  between 40 and 60 years       Saturday  \n",
       "72318  between 40 and 60 years       Saturday  \n",
       "72319            Older than 60       Saturday  \n",
       "72320  between 40 and 60 years       Saturday  \n",
       "72321  between 20 and 40 years       Saturday  \n",
       "72322  between 20 and 40 years       Saturday  \n",
       "72323            Older than 60       Saturday  \n",
       "72324  between 20 and 40 years       Saturday  \n",
       "72325     20 years and younger       Saturday  \n",
       "72326  between 40 and 60 years       Saturday  \n",
       "72327            Older than 60       Saturday  \n",
       "72328            Older than 60       Saturday  \n",
       "72329  between 40 and 60 years       Saturday  \n",
       "72330            Older than 60       Saturday  \n",
       "72331            Older than 60       Saturday  \n",
       "72332  between 40 and 60 years       Saturday  \n",
       "72333  between 40 and 60 years       Saturday  "
      ]
     },
     "execution_count": 22,
     "metadata": {},
     "output_type": "execute_result"
    }
   ],
   "source": [
    "day_error = df.query(\"Day_of_appoint == 'Saturday'\")\n",
    "day_error"
   ]
  },
  {
   "cell_type": "markdown",
   "metadata": {},
   "source": [
    "Drop the Saturday data points"
   ]
  },
  {
   "cell_type": "code",
   "execution_count": 23,
   "metadata": {},
   "outputs": [],
   "source": [
    "df.drop(day_error.index, inplace=True)"
   ]
  },
  {
   "cell_type": "markdown",
   "metadata": {},
   "source": [
    "Check that the error data is gone"
   ]
  },
  {
   "cell_type": "code",
   "execution_count": 24,
   "metadata": {},
   "outputs": [
    {
     "data": {
      "text/html": [
       "<div>\n",
       "<style scoped>\n",
       "    .dataframe tbody tr th:only-of-type {\n",
       "        vertical-align: middle;\n",
       "    }\n",
       "\n",
       "    .dataframe tbody tr th {\n",
       "        vertical-align: top;\n",
       "    }\n",
       "\n",
       "    .dataframe thead th {\n",
       "        text-align: right;\n",
       "    }\n",
       "</style>\n",
       "<table border=\"1\" class=\"dataframe\">\n",
       "  <thead>\n",
       "    <tr style=\"text-align: right;\">\n",
       "      <th></th>\n",
       "      <th>Gender</th>\n",
       "      <th>AppointmentDay</th>\n",
       "      <th>Age</th>\n",
       "      <th>Neighbourhood</th>\n",
       "      <th>Scholarship</th>\n",
       "      <th>Hipertension</th>\n",
       "      <th>Diabetes</th>\n",
       "      <th>Alcoholism</th>\n",
       "      <th>Handcap</th>\n",
       "      <th>SMS_received</th>\n",
       "      <th>No-show</th>\n",
       "      <th>age_group</th>\n",
       "      <th>Day_of_appoint</th>\n",
       "    </tr>\n",
       "  </thead>\n",
       "  <tbody>\n",
       "  </tbody>\n",
       "</table>\n",
       "</div>"
      ],
      "text/plain": [
       "Empty DataFrame\n",
       "Columns: [Gender, AppointmentDay, Age, Neighbourhood, Scholarship, Hipertension, Diabetes, Alcoholism, Handcap, SMS_received, No-show, age_group, Day_of_appoint]\n",
       "Index: []"
      ]
     },
     "execution_count": 24,
     "metadata": {},
     "output_type": "execute_result"
    }
   ],
   "source": [
    "df.query(\"Day_of_appoint == 'Saturday'\")"
   ]
  },
  {
   "cell_type": "markdown",
   "metadata": {},
   "source": [
    "Change No-show to No_show, as it is a better name format for Python. Fix Hipertension to Hypertension and handcap to handicap."
   ]
  },
  {
   "cell_type": "code",
   "execution_count": 25,
   "metadata": {
    "scrolled": false
   },
   "outputs": [
    {
     "data": {
      "text/plain": [
       "Index(['Gender', 'AppointmentDay', 'Age', 'Neighbourhood', 'Scholarship',\n",
       "       'Hypertension', 'Diabetes', 'Alcoholism', 'Handicap', 'SMS_received',\n",
       "       'No_show', 'age_group', 'Day_of_appoint'],\n",
       "      dtype='object')"
      ]
     },
     "execution_count": 25,
     "metadata": {},
     "output_type": "execute_result"
    }
   ],
   "source": [
    "df.rename(columns = {'No-show' : 'No_show', 'Hipertension' : 'Hypertension', 'Handcap' : 'Handicap'}, inplace=True)\n",
    "df.columns"
   ]
  },
  {
   "cell_type": "markdown",
   "metadata": {},
   "source": [
    "Make No_show into a int variable. No as 0, Yes as 1 to help change it into a boolean variable"
   ]
  },
  {
   "cell_type": "code",
   "execution_count": 26,
   "metadata": {},
   "outputs": [],
   "source": [
    "df['No_show'].replace({'No' : 0, 'Yes' : 1}, inplace =True)"
   ]
  },
  {
   "cell_type": "markdown",
   "metadata": {},
   "source": [
    "Now change the Scholarship, Hypertension, Diabetes, Alcoholism, SMS_received and No_show variable into boolean vairables"
   ]
  },
  {
   "cell_type": "code",
   "execution_count": 27,
   "metadata": {},
   "outputs": [],
   "source": [
    "for i in ['Scholarship', 'Hypertension', 'Diabetes', 'Alcoholism', 'SMS_received', 'No_show']:\n",
    "    df[i] = df[i].astype('bool')"
   ]
  },
  {
   "cell_type": "code",
   "execution_count": 28,
   "metadata": {},
   "outputs": [
    {
     "data": {
      "text/plain": [
       "Gender            object\n",
       "AppointmentDay    object\n",
       "Age                int64\n",
       "Neighbourhood     object\n",
       "Scholarship         bool\n",
       "Hypertension        bool\n",
       "Diabetes            bool\n",
       "Alcoholism          bool\n",
       "Handicap           int64\n",
       "SMS_received        bool\n",
       "No_show             bool\n",
       "age_group         object\n",
       "Day_of_appoint    object\n",
       "dtype: object"
      ]
     },
     "execution_count": 28,
     "metadata": {},
     "output_type": "execute_result"
    }
   ],
   "source": [
    "df.dtypes"
   ]
  },
  {
   "cell_type": "markdown",
   "metadata": {},
   "source": [
    "Change Gender, Neighourhood, Handicap into category variables "
   ]
  },
  {
   "cell_type": "code",
   "execution_count": 29,
   "metadata": {},
   "outputs": [],
   "source": [
    "for i in ['Gender', 'Neighbourhood', 'Handicap']:\n",
    "    df[i] = df[i].astype('category')"
   ]
  },
  {
   "cell_type": "code",
   "execution_count": 30,
   "metadata": {
    "scrolled": true
   },
   "outputs": [
    {
     "data": {
      "text/plain": [
       "Gender            category\n",
       "AppointmentDay      object\n",
       "Age                  int64\n",
       "Neighbourhood     category\n",
       "Scholarship           bool\n",
       "Hypertension          bool\n",
       "Diabetes              bool\n",
       "Alcoholism            bool\n",
       "Handicap          category\n",
       "SMS_received          bool\n",
       "No_show               bool\n",
       "age_group           object\n",
       "Day_of_appoint      object\n",
       "dtype: object"
      ]
     },
     "execution_count": 30,
     "metadata": {},
     "output_type": "execute_result"
    }
   ],
   "source": [
    "df.dtypes"
   ]
  },
  {
   "cell_type": "markdown",
   "metadata": {},
   "source": [
    "<a id='eda'></a>\n",
    "## Exploratory Data Analysis\n",
    "\n",
    "#### Before we deal with explanatory variables for the no-show appointments, I'll look at the appointment results.\n"
   ]
  },
  {
   "cell_type": "code",
   "execution_count": 31,
   "metadata": {},
   "outputs": [
    {
     "data": {
      "text/plain": [
       "False    88177\n",
       "True     22310\n",
       "Name: No_show, dtype: int64"
      ]
     },
     "execution_count": 31,
     "metadata": {},
     "output_type": "execute_result"
    }
   ],
   "source": [
    "df['No_show'].value_counts()"
   ]
  },
  {
   "cell_type": "code",
   "execution_count": 32,
   "metadata": {
    "scrolled": true
   },
   "outputs": [
    {
     "data": {
      "image/png": "[encoded data removed]",
      "text/plain": [
       "<matplotlib.figure.Figure at 0x7fe97b1176a0>"
      ]
     },
     "metadata": {},
     "output_type": "display_data"
    }
   ],
   "source": [
    "plt.figure(figsize=(5,5))\n",
    "df.No_show.value_counts(normalize = True).plot(kind = 'pie', autopct='%1.1f%%', shadow=True)\n",
    "plt.title(\"Percentage of no show appointments\");"
   ]
  },
  {
   "cell_type": "markdown",
   "metadata": {},
   "source": [
    "We see that 20.2% of appointments are no show appointments."
   ]
  },
  {
   "cell_type": "markdown",
   "metadata": {},
   "source": [
    "Create a variable set to the average no show rate"
   ]
  },
  {
   "cell_type": "code",
   "execution_count": 33,
   "metadata": {},
   "outputs": [],
   "source": [
    "avg_no_show_rate = .202"
   ]
  },
  {
   "cell_type": "markdown",
   "metadata": {},
   "source": [
    "Now create 2 plot functions we will recall to help answer most of our questions.\n",
    "First a bar plot."
   ]
  },
  {
   "cell_type": "code",
   "execution_count": 34,
   "metadata": {},
   "outputs": [],
   "source": [
    "def bar_plot_func(x_in, y_in, xlabel_in, ylabel_in, title_in, order_in = None , hue_in = None):\n",
    "    ax = sns.barplot( x = x_in, y = y_in, order = order_in, hue = hue_in)\n",
    "    ax.set(xlabel = xlabel_in, ylabel = ylabel_in, title = title_in)\n",
    "    return ax"
   ]
  },
  {
   "cell_type": "code",
   "execution_count": 35,
   "metadata": {},
   "outputs": [],
   "source": [
    "def count_plot_func(df_in, x_in, xlabel_in, ylabel_in, title_in,  order_in = None):\n",
    "    ax = sns.countplot(data = df_in, x = x_in, order = order_in)\n",
    "    ax.set(xlabel = xlabel_in, ylabel = ylabel_in, title = title_in)\n",
    "    return ax"
   ]
  },
  {
   "cell_type": "markdown",
   "metadata": {},
   "source": [
    "In this analysis I will be using the Chi squared contingency test to test for association of varialbes more info found [here](https://docs.scipy.org/doc/scipy/reference/generated/scipy.stats.chi2_contingency.html)"
   ]
  },
  {
   "cell_type": "markdown",
   "metadata": {},
   "source": [
    "### Research Question 1 -  Is the gender of the patient associated with if they show up for their appointment?"
   ]
  },
  {
   "cell_type": "code",
   "execution_count": 36,
   "metadata": {
    "scrolled": true
   },
   "outputs": [
    {
     "data": {
      "text/plain": [
       "F    71810\n",
       "M    38677\n",
       "Name: Gender, dtype: int64"
      ]
     },
     "execution_count": 36,
     "metadata": {},
     "output_type": "execute_result"
    }
   ],
   "source": [
    "df['Gender'].value_counts()"
   ]
  },
  {
   "cell_type": "markdown",
   "metadata": {},
   "source": [
    "There are significantly more women than men in the data set so I will want to use the percent of each gender that doesn't show up to compare if there is a difference."
   ]
  },
  {
   "cell_type": "code",
   "execution_count": 37,
   "metadata": {
    "scrolled": true
   },
   "outputs": [
    {
     "data": {
      "image/png": "[encoded data removed]",
      "text/plain": [
       "<matplotlib.figure.Figure at 0x7fe97b114f60>"
      ]
     },
     "metadata": {
      "needs_background": "light"
     },
     "output_type": "display_data"
    }
   ],
   "source": [
    "bar_plot_func(df['Gender'], df['No_show'], \"Gender\", \"No Show percent\", \"No show Percent by Gender\")\n",
    "plt.axhline(avg_no_show_rate);"
   ]
  },
  {
   "cell_type": "markdown",
   "metadata": {},
   "source": [
    "Now I will use a Chi squared contingency test to test for association between gender and the no-show variable.\n",
    "\n",
    "Here I use:\n",
    "\n",
    "H_0: There is no association between No_show and gender\n",
    "\n",
    "H_1: There is an association between No_show and gender\n",
    "\n",
    "Alpha = 0.05"
   ]
  },
  {
   "cell_type": "code",
   "execution_count": 38,
   "metadata": {
    "scrolled": true
   },
   "outputs": [
    {
     "data": {
      "text/plain": [
       "(1.8608293961090543,\n",
       " 0.17252910658014908,\n",
       " 1,\n",
       " array([[ 57309.82260356,  30867.17739644],\n",
       "        [ 14500.17739644,   7809.82260356]]))"
      ]
     },
     "execution_count": 38,
     "metadata": {},
     "output_type": "execute_result"
    }
   ],
   "source": [
    "cont_table  = pd.crosstab(df['No_show'], df['Gender'])\n",
    "scipy.stats.chi2_contingency(cont_table, correction = False)"
   ]
  },
  {
   "cell_type": "markdown",
   "metadata": {},
   "source": [
    "P value is 0.17, which is larger than alpha so we fail to reject the Null Hypothesis that there is no association between No_show and Gender. Gender is therefore not considered associated with No_show."
   ]
  },
  {
   "cell_type": "markdown",
   "metadata": {},
   "source": [
    "### Research Question 2 - Is the age of the patient associated with if they show up to their appointment?"
   ]
  },
  {
   "cell_type": "markdown",
   "metadata": {},
   "source": [
    "To start, I will plot the age distribution"
   ]
  },
  {
   "cell_type": "code",
   "execution_count": 39,
   "metadata": {
    "scrolled": true
   },
   "outputs": [
    {
     "data": {
      "image/png": "[encoded data removed]",
      "text/plain": [
       "<matplotlib.figure.Figure at 0x7fe97b057da0>"
      ]
     },
     "metadata": {
      "needs_background": "light"
     },
     "output_type": "display_data"
    }
   ],
   "source": [
    "plt.figure(figsize=(30,15))\n",
    "count_plot_func(df, df['Age'], 'Age', 'Number of patients', 'Number of patients by age');\n",
    "\n"
   ]
  },
  {
   "cell_type": "markdown",
   "metadata": {},
   "source": [
    "The distribution of the age of the patients shows that those under 2 have more appointments which makes sense given that they are newborn and need extra care. There are fewer appointments for the older ages, which also makes sense as there would be fewer people in the older ages as patients die out."
   ]
  },
  {
   "cell_type": "markdown",
   "metadata": {},
   "source": [
    "Now I will plot the no-show rate for each age"
   ]
  },
  {
   "cell_type": "code",
   "execution_count": 40,
   "metadata": {
    "scrolled": true
   },
   "outputs": [
    {
     "data": {
      "image/png": "[encoded data removed]",
      "text/plain": [
       "<matplotlib.figure.Figure at 0x7fe97ae76828>"
      ]
     },
     "metadata": {
      "needs_background": "light"
     },
     "output_type": "display_data"
    }
   ],
   "source": [
    "plt.figure(figsize=(30,15))\n",
    "bar_plot_func(df['Age'], df['No_show'], 'Age group', 'Percent no show', 'No shows by age')\n",
    "plt.axhline(avg_no_show_rate);"
   ]
  },
  {
   "cell_type": "markdown",
   "metadata": {},
   "source": [
    "From age 4 to 45, patients tend to miss their appointments more than the average."
   ]
  },
  {
   "cell_type": "markdown",
   "metadata": {},
   "source": [
    "I will use the age categories to make a more clear graph and to make it easier to work with the data"
   ]
  },
  {
   "cell_type": "code",
   "execution_count": 41,
   "metadata": {
    "scrolled": false
   },
   "outputs": [
    {
     "data": {
      "image/png": "[encoded data removed]",
      "text/plain": [
       "<matplotlib.figure.Figure at 0x7fe97ad43ba8>"
      ]
     },
     "metadata": {
      "needs_background": "light"
     },
     "output_type": "display_data"
    }
   ],
   "source": [
    "order = ['20 years and younger', 'between 20 and 40 years' , 'between 40 and 60 years', 'Older than 60'] #keeps ages in order\n",
    "plt.figure(figsize=(30,15))\n",
    "bar_plot_func(df['age_group'], df['No_show'], 'Age group', 'Percent of no show', 'No shows by age group', order)\n",
    "plt.axhline(avg_no_show_rate); #overal average no show rate"
   ]
  },
  {
   "cell_type": "code",
   "execution_count": 42,
   "metadata": {
    "scrolled": true
   },
   "outputs": [
    {
     "data": {
      "text/plain": [
       "age_group                No_show\n",
       "Older than 60            False      0.847992\n",
       "between 40 and 60 years  False      0.814103\n",
       "20 years and younger     False      0.777209\n",
       "between 20 and 40 years  False      0.770215\n",
       "                         True       0.229785\n",
       "20 years and younger     True       0.222791\n",
       "between 40 and 60 years  True       0.185897\n",
       "Older than 60            True       0.152008\n",
       "Name: No_show, dtype: float64"
      ]
     },
     "execution_count": 42,
     "metadata": {},
     "output_type": "execute_result"
    }
   ],
   "source": [
    "age_no_show = df.groupby('age_group').No_show.value_counts(normalize = True).sort_values(ascending=False)\n",
    "age_no_show"
   ]
  },
  {
   "cell_type": "markdown",
   "metadata": {},
   "source": [
    "We can see that ages 60 and older show up the most frequently (84.78%). The next most is age 40 to 60 (81.41%), then 20 and younger (77.72%), and finally 20 to 40 (77.02%). So age does appear to be a predictor variable."
   ]
  },
  {
   "cell_type": "markdown",
   "metadata": {},
   "source": [
    "Now lets use a Chi squared contingency test to test for association between the age group variable and the no-show variable.\n",
    "\n",
    "Here we use\n",
    "\n",
    "H_0: The means of each age group are equal\n",
    "\n",
    "H_1: The means of at least one age group are not equal\n",
    "\n",
    "Alpha = 0.05"
   ]
  },
  {
   "cell_type": "code",
   "execution_count": 43,
   "metadata": {},
   "outputs": [
    {
     "data": {
      "text/plain": [
       "(578.16826775458833,\n",
       " 5.4459325180171279e-125,\n",
       " 3,\n",
       " array([[ 25415.52166318,  15761.19881072,  23006.13084797,  23994.14867813],\n",
       "        [  6430.47833682,   3987.80118928,   5820.86915203,   6070.85132187]]))"
      ]
     },
     "execution_count": 43,
     "metadata": {},
     "output_type": "execute_result"
    }
   ],
   "source": [
    "cont_table  = pd.crosstab(df['No_show'], df['age_group'])\n",
    "scipy.stats.chi2_contingency(cont_table, correction = False)"
   ]
  },
  {
   "cell_type": "markdown",
   "metadata": {},
   "source": [
    "Our P value is 5.446e-125 which is less than alpha so I can reject the null hyphypothesis and conclude that at least 1 age group mean is not the same, and that age group is a predictive variable."
   ]
  },
  {
   "cell_type": "markdown",
   "metadata": {},
   "source": [
    "### Research Question 3 - Is the day of the week associated with  the amount of no-shows?\n"
   ]
  },
  {
   "cell_type": "markdown",
   "metadata": {},
   "source": [
    "Plot the appointments made on each day"
   ]
  },
  {
   "cell_type": "code",
   "execution_count": 44,
   "metadata": {},
   "outputs": [
    {
     "data": {
      "image/png": "[encoded data removed]",
      "text/plain": [
       "<matplotlib.figure.Figure at 0x7fe97a9dd470>"
      ]
     },
     "metadata": {},
     "output_type": "display_data"
    }
   ],
   "source": [
    "plt.figure(figsize=(5,5))\n",
    "df.Day_of_appoint.value_counts(normalize = True).plot(kind = 'pie',  autopct='%1.1f%%', shadow=True, colors = (\"green\", \"orange\", \"blue\", \"red\",\"purple\"))\n",
    "plt.title(\"Percentage of appointments by day\")\n",
    "plt.ylabel(\"\");"
   ]
  },
  {
   "cell_type": "code",
   "execution_count": 45,
   "metadata": {
    "scrolled": true
   },
   "outputs": [
    {
     "data": {
      "image/png": "[encoded data removed]",
      "text/plain": [
       "<matplotlib.figure.Figure at 0x7fe97aaa9be0>"
      ]
     },
     "metadata": {
      "needs_background": "light"
     },
     "output_type": "display_data"
    }
   ],
   "source": [
    "plt.figure(figsize=(30,15))\n",
    "order = [ \"Monday\", \"Tuesday\", \"Wednesday\", \"Thursday\", \"Friday\"] #keeps days in order\n",
    "count_plot_func(df, df['Day_of_appoint'], 'Day of the appointment', 'Number of appointments', 'Number of appointments by day of the week', order);"
   ]
  },
  {
   "cell_type": "markdown",
   "metadata": {},
   "source": [
    "Since Thursday and Friday have significantly fewer appointments than other days, the percentage of no-shows should be used for the analysis."
   ]
  },
  {
   "cell_type": "code",
   "execution_count": 46,
   "metadata": {
    "scrolled": true
   },
   "outputs": [
    {
     "data": {
      "image/png": "[encoded data removed]",
      "text/plain": [
       "<matplotlib.figure.Figure at 0x7fe97aa952b0>"
      ]
     },
     "metadata": {
      "needs_background": "light"
     },
     "output_type": "display_data"
    }
   ],
   "source": [
    "order = [ \"Monday\", \"Tuesday\", \"Wednesday\", \"Thursday\", \"Friday\"] #keeps days in order\n",
    "plt.figure(figsize=(12,8))\n",
    "bar_plot_func(df['Day_of_appoint'], df['No_show'], 'Day of appointment', 'Frequency', 'No shows by day', order);\n",
    "plt.xticks(rotation=90) \n",
    "plt.axhline(avg_no_show_rate);#overall average no show rate"
   ]
  },
  {
   "cell_type": "markdown",
   "metadata": {},
   "source": [
    "No-shows on Monday and Friday are more likely than the average rate. Tuesday shows no difference from the average rate of no shows. Wednesday and Thursday have fewer no shows than the average rate."
   ]
  },
  {
   "cell_type": "code",
   "execution_count": 47,
   "metadata": {},
   "outputs": [
    {
     "data": {
      "text/plain": [
       "Day_of_appoint  No_show\n",
       "Thursday        False      0.806459\n",
       "Wednesday       False      0.803108\n",
       "Tuesday         False      0.799064\n",
       "Monday          False      0.793519\n",
       "Friday          False      0.787739\n",
       "                True       0.212261\n",
       "Monday          True       0.206481\n",
       "Tuesday         True       0.200936\n",
       "Wednesday       True       0.196892\n",
       "Thursday        True       0.193541\n",
       "Name: No_show, dtype: float64"
      ]
     },
     "execution_count": 47,
     "metadata": {},
     "output_type": "execute_result"
    }
   ],
   "source": [
    "day_no_show = df.groupby('Day_of_appoint').No_show.value_counts(normalize = True).sort_values(ascending=False)\n",
    "day_no_show"
   ]
  },
  {
   "cell_type": "markdown",
   "metadata": {},
   "source": [
    "Now lets use a Chi squared contingency test to test for association between the day of the appointment variable and the no show variable.\n",
    "\n",
    "Here we use\n",
    "\n",
    "H_0: The means of the each age group are equal\n",
    "\n",
    "H_1: The means of at least one age group are not equal\n",
    "\n",
    "Alpha = 0.05"
   ]
  },
  {
   "cell_type": "code",
   "execution_count": 48,
   "metadata": {
    "scrolled": false
   },
   "outputs": [
    {
     "data": {
      "text/plain": [
       "(27.279581892126199,\n",
       " 1.7452149833576686e-05,\n",
       " 4,\n",
       " array([[ 15178.60348276,   3840.39651724],\n",
       "        [ 18127.49353318,   4586.50646682],\n",
       "        [ 13764.41317983,   3482.58682017],\n",
       "        [ 20462.66329975,   5177.33670025],\n",
       "        [ 20643.82650448,   5223.17349552]]))"
      ]
     },
     "execution_count": 48,
     "metadata": {},
     "output_type": "execute_result"
    }
   ],
   "source": [
    "cont_table  = pd.crosstab(df['Day_of_appoint'], df['No_show'])\n",
    "scipy.stats.chi2_contingency(cont_table, correction = False)"
   ]
  },
  {
   "cell_type": "markdown",
   "metadata": {},
   "source": [
    "With a P value of 1.75 e-05, which is less than alpha, I reject the null hypothesis, which means at least one group's mean is different from the others and that day of the week is associated with whether a patient will no-show or not."
   ]
  },
  {
   "cell_type": "markdown",
   "metadata": {},
   "source": [
    "### Research Question 4 - Is receiving a sms message associated with the rate of people who show up?"
   ]
  },
  {
   "cell_type": "markdown",
   "metadata": {},
   "source": [
    "Plot the no-show rate of the message and no message group"
   ]
  },
  {
   "cell_type": "code",
   "execution_count": 49,
   "metadata": {},
   "outputs": [
    {
     "data": {
      "image/png": "[encoded data removed]",
      "text/plain": [
       "<matplotlib.figure.Figure at 0x7fe97a9d34e0>"
      ]
     },
     "metadata": {
      "needs_background": "light"
     },
     "output_type": "display_data"
    }
   ],
   "source": [
    "bar_plot_func(df['SMS_received'], df['No_show'],'Received message', 'Percent no show', 'No show frequency by message group')\n",
    "plt.axhline(avg_no_show_rate); #average overal no show rate"
   ]
  },
  {
   "cell_type": "code",
   "execution_count": 50,
   "metadata": {
    "scrolled": true
   },
   "outputs": [
    {
     "data": {
      "text/plain": [
       "SMS_received  No_show\n",
       "False         False      0.832987\n",
       "True          False      0.724238\n",
       "              True       0.275762\n",
       "False         True       0.167013\n",
       "Name: No_show, dtype: float64"
      ]
     },
     "execution_count": 50,
     "metadata": {},
     "output_type": "execute_result"
    }
   ],
   "source": [
    "msg_no_show = df.groupby('SMS_received').No_show.value_counts(normalize = True).sort_values(ascending=False)\n",
    "msg_no_show"
   ]
  },
  {
   "cell_type": "markdown",
   "metadata": {},
   "source": [
    "Clearly, receiving a message is associated with if someone shows up or not, with those that did not recieve a message showing up 83.3% of the time while those that did receive a message showed up only 72.43% of the time."
   ]
  },
  {
   "cell_type": "markdown",
   "metadata": {},
   "source": [
    "Now lets use a Chi squared contingency test to test for association between message group variable and the no show variable.\n",
    "\n",
    "Here we use\n",
    "\n",
    "H_0: There is no association between No_show and receiving a message\n",
    "\n",
    "H_1: There is an association between No_show and receiving a message\n",
    "\n",
    "Alpha = 0.05"
   ]
  },
  {
   "cell_type": "code",
   "execution_count": 51,
   "metadata": {
    "scrolled": true
   },
   "outputs": [
    {
     "data": {
      "text/plain": [
       "(1767.3343921322048, 0.0, 1, array([[ 59870.04974341,  15147.95025659],\n",
       "        [ 28306.95025659,   7162.04974341]]))"
      ]
     },
     "execution_count": 51,
     "metadata": {},
     "output_type": "execute_result"
    }
   ],
   "source": [
    "cont_table  = pd.crosstab(df['SMS_received'], df['No_show'])\n",
    "scipy.stats.chi2_contingency(cont_table, correction = False)"
   ]
  },
  {
   "cell_type": "markdown",
   "metadata": {},
   "source": [
    "With a p value of 0 being less than alpha, I reject the Null Hypothesis that the means are equal and say that receiving a sms message is a predictive variable."
   ]
  },
  {
   "cell_type": "markdown",
   "metadata": {},
   "source": [
    "### Research Question 5 - Is being on the goverment scholarship program associated with the rate of people showing up?"
   ]
  },
  {
   "cell_type": "markdown",
   "metadata": {},
   "source": [
    "Plot the no show rate of the scholarship and no scholarship groups"
   ]
  },
  {
   "cell_type": "code",
   "execution_count": 52,
   "metadata": {
    "scrolled": true
   },
   "outputs": [
    {
     "data": {
      "image/png": "[encoded data removed]",
      "text/plain": [
       "<matplotlib.figure.Figure at 0x7fe97b0d3198>"
      ]
     },
     "metadata": {
      "needs_background": "light"
     },
     "output_type": "display_data"
    }
   ],
   "source": [
    "bar_plot_func(df['Scholarship'],df['No_show'], 'Receives scholarship', 'Percent no show', 'No shows for Scholarship recepients')\n",
    "plt.axhline(avg_no_show_rate); #Overall average no show rate"
   ]
  },
  {
   "cell_type": "markdown",
   "metadata": {},
   "source": [
    "Receiving a scholarship appears to be associated with the no-show rate of patients"
   ]
  },
  {
   "cell_type": "code",
   "execution_count": 53,
   "metadata": {},
   "outputs": [
    {
     "data": {
      "text/plain": [
       "Scholarship  No_show\n",
       "False        False      0.801945\n",
       "True         False      0.762571\n",
       "             True       0.237429\n",
       "False        True       0.198055\n",
       "Name: No_show, dtype: float64"
      ]
     },
     "execution_count": 53,
     "metadata": {},
     "output_type": "execute_result"
    }
   ],
   "source": [
    "scholar_no_show = df.groupby('Scholarship').No_show.value_counts(normalize = True).sort_values(ascending=False)\n",
    "scholar_no_show"
   ]
  },
  {
   "cell_type": "markdown",
   "metadata": {},
   "source": [
    "Now lets use a Chi squared contingency test to test for association between scholarship group variable and the no-show variable.\n",
    "\n",
    "Here we use\n",
    "\n",
    "H_0: There is no association between No_show and receiving a scholarship\n",
    "\n",
    "H_1: There is an association between No_show and receiving a scholarship\n",
    "\n",
    "Alpha = 0.05"
   ]
  },
  {
   "cell_type": "code",
   "execution_count": 54,
   "metadata": {},
   "outputs": [
    {
     "data": {
      "text/plain": [
       "(94.190578232164626,\n",
       " 2.8656144028536692e-22,\n",
       " 1,\n",
       " array([[ 79511.49305348,  20117.50694652],\n",
       "        [  8665.50694652,   2192.49305348]]))"
      ]
     },
     "execution_count": 54,
     "metadata": {},
     "output_type": "execute_result"
    }
   ],
   "source": [
    "cont_table  = pd.crosstab(df['Scholarship'], df['No_show'])\n",
    "scipy.stats.chi2_contingency(cont_table, correction = False)"
   ]
  },
  {
   "cell_type": "markdown",
   "metadata": {},
   "source": [
    "With a P value of 2.866e-22, I reject the Null Hypothesis that there is no associations between being on a scholarship and the no-show rate."
   ]
  },
  {
   "cell_type": "markdown",
   "metadata": {},
   "source": [
    "We see that those that receive the goverment scholarship are slightly more likely to no-show (about 4% more likely).\n",
    "\n",
    "Explore some of the relationships of the associated variables with the no-show rate\n",
    "\n",
    "Look at how receiving a message affects the no-show rate of the scholarship variable, since we know that receiving a message is a predictor variable."
   ]
  },
  {
   "cell_type": "code",
   "execution_count": 55,
   "metadata": {
    "scrolled": true
   },
   "outputs": [
    {
     "data": {
      "image/png": "[encoded data removed]",
      "text/plain": [
       "<matplotlib.figure.Figure at 0x7fe97a9ce828>"
      ]
     },
     "metadata": {
      "needs_background": "light"
     },
     "output_type": "display_data"
    }
   ],
   "source": [
    "order_in = None\n",
    "hue_in = df['SMS_received']\n",
    "bar_plot_func(df['Scholarship'],df['No_show'], 'Receives scholarship', 'Percent no show', 'No shows for Scholarship recepients accounting for recieving a message', order_in, hue_in)\n",
    "plt.axhline(avg_no_show_rate); #Overall average no show rate"
   ]
  },
  {
   "cell_type": "markdown",
   "metadata": {},
   "source": [
    "We see that those who do not receive a message and aren't on the scholarship no-show the least of the 4 groups. Those who receive a message and are on the scholarship no-show the most often at almost 35% of the time."
   ]
  },
  {
   "cell_type": "code",
   "execution_count": 56,
   "metadata": {
    "scrolled": true
   },
   "outputs": [
    {
     "data": {
      "image/png": "[encoded data removed]",
      "text/plain": [
       "<matplotlib.figure.Figure at 0x7fe97b002080>"
      ]
     },
     "metadata": {
      "needs_background": "light"
     },
     "output_type": "display_data"
    }
   ],
   "source": [
    "order_in = None\n",
    "hue_in = df['age_group']\n",
    "bar_plot_func(df['Scholarship'],df['No_show'], 'Receives scholarship', 'Percent no show', 'No shows for Scholarship recepients accounting for  age group', order_in, hue_in)\n",
    "plt.axhline(avg_no_show_rate); #Overall average rate"
   ]
  },
  {
   "cell_type": "markdown",
   "metadata": {},
   "source": [
    "We see that the over 60 group consistently has fewer no-shows than the average rate. The groups under 40 both consistently has more no-shows then the average rate. If the age group of 40 to 60 receives a scholarship, they have more no-shows then the average, but if they do not receive a scholarship they have fewer no-shows then the average rate.\n",
    "\n",
    "Overall, it appears that the relationships between the associated variables increases no show rates"
   ]
  },
  {
   "cell_type": "markdown",
   "metadata": {},
   "source": [
    "### Research Question 6 - Which Neighborhoods have the most no-shows?"
   ]
  },
  {
   "cell_type": "markdown",
   "metadata": {},
   "source": [
    "First, I'll plot all the neighbourhoods"
   ]
  },
  {
   "cell_type": "code",
   "execution_count": 57,
   "metadata": {
    "scrolled": true
   },
   "outputs": [
    {
     "data": {
      "image/png": "[encoded data removed]",
      "text/plain": [
       "<matplotlib.figure.Figure at 0x7fe97ad87080>"
      ]
     },
     "metadata": {
      "needs_background": "light"
     },
     "output_type": "display_data"
    }
   ],
   "source": [
    "plt.figure(figsize=(70,15))\n",
    "plt.subplot(2,1,1)\n",
    "order = df['Neighbourhood'].value_counts().index\n",
    "count_plot_func(df, df['Neighbourhood'], 'Neighbourhood', 'Number of no shows', 'Neighbourhoods no shows', order)\n",
    "plt.xticks(rotation=90)\n",
    "\n",
    "plt.subplot(2,1,2)\n",
    "bar_plot_func(df['Neighbourhood'], df['No_show'], 'Neighbourhood', 'Perecent of no show', 'Neighbourhood percent no show', order)\n",
    "plt.axhline(avg_no_show_rate) #Overall average no show rate\n",
    "plt.xticks(rotation=90);"
   ]
  },
  {
   "cell_type": "markdown",
   "metadata": {},
   "source": [
    "Now I'll plot the top 5 neighbourhoods for no-shows"
   ]
  },
  {
   "cell_type": "code",
   "execution_count": 58,
   "metadata": {
    "scrolled": true
   },
   "outputs": [
    {
     "data": {
      "image/png": "[encoded data removed]",
      "text/plain": [
       "<matplotlib.figure.Figure at 0x7fe97af22400>"
      ]
     },
     "metadata": {
      "needs_background": "light"
     },
     "output_type": "display_data"
    }
   ],
   "source": [
    "plt.figure(figsize=(15,8))\n",
    "order_in = df['Neighbourhood'].value_counts().index[:5]\n",
    "count_plot_func(df, 'Neighbourhood', 'Neighbourhoods', 'Number of no shows', 'Top 5 neighbourhoods for no shows', order_in);"
   ]
  },
  {
   "cell_type": "markdown",
   "metadata": {},
   "source": [
    "I'll investigate these neighbourhoods a little bit more\n",
    "\n",
    "I will reuse the same order as before to look at the same neighbourhoods"
   ]
  },
  {
   "cell_type": "code",
   "execution_count": 59,
   "metadata": {
    "scrolled": true
   },
   "outputs": [
    {
     "data": {
      "image/png": "[encoded data removed]",
      "text/plain": [
       "<matplotlib.figure.Figure at 0x7fe97af22080>"
      ]
     },
     "metadata": {
      "needs_background": "light"
     },
     "output_type": "display_data"
    }
   ],
   "source": [
    "order_in = df['Neighbourhood'].value_counts().index[:5]\n",
    "bar_plot_func(df['Neighbourhood'], df['No_show'], 'Neighbourhood', 'Perecent of no show', 'Neighbourhood percent no show for top 5 no show neighbourhoods', order_in)\n",
    "plt.axhline(avg_no_show_rate) #Overall average no show rate\n",
    "plt.xticks(rotation=90);"
   ]
  },
  {
   "cell_type": "markdown",
   "metadata": {},
   "source": [
    "We see that Jardim Camburi and Jardim Da Pehna have lower rates of no-shows then the average of the data, while the other 3 neighbourhoods have slightly higher no-show rates."
   ]
  },
  {
   "cell_type": "markdown",
   "metadata": {},
   "source": [
    "### Question 7 - Which conditions, if any, have a higher rate of no-shows than patients who don't have those conditions?"
   ]
  },
  {
   "cell_type": "markdown",
   "metadata": {},
   "source": [
    "The conditions being looked at are hypertension, diabetes, alcoholism, and handicaps. "
   ]
  },
  {
   "cell_type": "code",
   "execution_count": 60,
   "metadata": {},
   "outputs": [
    {
     "data": {
      "image/png": "[encoded data removed]",
      "text/plain": [
       "<matplotlib.figure.Figure at 0x7fe97a9ceeb8>"
      ]
     },
     "metadata": {
      "needs_background": "light"
     },
     "output_type": "display_data"
    }
   ],
   "source": [
    "b = 1\n",
    "plt.figure(figsize=(30,60))\n",
    "for i in ['Hypertension', 'Diabetes', 'Alcoholism', 'Handicap']:\n",
    "    plt.subplot(4,1,b)\n",
    "    b = b + 1\n",
    "    plt.axhline(avg_no_show_rate)\n",
    "    bar_plot_func(df[i], df['No_show'], i , 'Percent of no show', i)"
   ]
  },
  {
   "cell_type": "markdown",
   "metadata": {},
   "source": [
    "- Alcoholism has no effect on whether patients will no-show or not.\n",
    "- Patients with diabetes or hypertension no-show less frequently then patients who don't have those conditions.\n",
    "- Patients with 3 or 4 handicaps have a higher no-show rate than average."
   ]
  },
  {
   "cell_type": "code",
   "execution_count": 81,
   "metadata": {},
   "outputs": [
    {
     "data": {
      "text/plain": [
       "Handicap  No_show\n",
       "1         False      0.820676\n",
       "2         False      0.797814\n",
       "0         False      0.797657\n",
       "3         False      0.769231\n",
       "4         False      0.666667\n",
       "          True       0.333333\n",
       "3         True       0.230769\n",
       "0         True       0.202343\n",
       "2         True       0.202186\n",
       "1         True       0.179324\n",
       "Name: No_show, dtype: float64"
      ]
     },
     "execution_count": 81,
     "metadata": {},
     "output_type": "execute_result"
    }
   ],
   "source": [
    "handicap_no_show = df.groupby('Handicap').No_show.value_counts(normalize = True).sort_values(ascending=False)\n",
    "handicap_no_show"
   ]
  },
  {
   "cell_type": "markdown",
   "metadata": {},
   "source": [
    "Patients with 1 handicap no-show about 2% less than those without handicaps. Patients with 1 handicap show up at the same rate as those without handicaps. Patients with 3 handicaps no-show 3% more often then those that don't have a handicap, while patients with 4 or more handicaps no-show 13% more often then those without handicaps."
   ]
  },
  {
   "cell_type": "markdown",
   "metadata": {},
   "source": [
    "<a id='conclusions'></a>\n",
    "## Conclusions"
   ]
  },
  {
   "cell_type": "markdown",
   "metadata": {},
   "source": [
    "#### 1) Is the gender of the patient associated with if they show up for their appointment?\n",
    "\n",
    "From the graph, we see that both male and female patients no-show at the same rate as each other. Running a chi squared contingency test found that there is no association between the gender of a patient and if they no-show.\n"
   ]
  },
  {
   "cell_type": "markdown",
   "metadata": {},
   "source": [
    "#### 2) Is the age of the patient associated with if they show up to their appointment?\n",
    "\n",
    "From the age groups that were created, it showed that the patients older than 60 show up the most often at 84.78%, patients in 40 to 60 show up 81.41%, patients 20 and under show up 77.72%, and finally patients to 20 to 40 show up 77.02% of the time. By running a chi squared contingency test, it was found that at least one age group's mean of the no-show variable was different, and that age group is associated with whether patients show up to their appointment."
   ]
  },
  {
   "cell_type": "markdown",
   "metadata": {},
   "source": [
    "#### 3) Is the day of the week associated with  the amount of no-shows?\n",
    "\n",
    "It was found that Thursday had the highest rate of patients showing up to appointments at 80.65% and Friday had the lowest rate of showing up at 78.77%. A Chi squared contingency test was run and found that the day of the week was associated with whether a patient would show up. Below is a table of rates of showing up from highest to lowest.\n",
    "\n",
    "Thursday    80.64\n",
    "\n",
    "Wednesday   80.31\n",
    "\n",
    "Tuesday     79.90\n",
    "\n",
    "Monday      79.35\n",
    "\n",
    "Friday      78.77"
   ]
  },
  {
   "cell_type": "markdown",
   "metadata": {},
   "source": [
    "#### 4) Is receiving a sms message associated with the rate of people who show up?\n",
    "\n",
    "It was seen that patients who receive a message no-show 27.58% of the time compared to those who do not receive a message, who no-show 16.70% of the time. A chi squared contingency test was run and found that there is a association between receiving a message and showing up.\n",
    "\n",
    "\n",
    "This result is a little misleading, as those who make appointments on the same day they have them will not get a message and would presumably be less likely to not be able to make their appointment. This result does not necessarily mean that sending a message has a negative impact on if a patient will show up."
   ]
  },
  {
   "cell_type": "markdown",
   "metadata": {},
   "source": [
    "#### 5) Is being on the goverment scholarship program associated with the rate of people showing up?\n",
    "\n",
    "It was seen that those on the scholarship program no-showed 23.74% of the time compared the those that were not on the program who no-showed 19.81% of the time. A chi sqaured contingency test was run and being on the program was found to be associated with not showing up. Age group and recieving a message about the appointment were then explored with the scholarship program variable, as all three were found to associated with not showing up. When more than one associated variable was accounted for, the rate of no-shows increased.\n"
   ]
  },
  {
   "cell_type": "markdown",
   "metadata": {},
   "source": [
    "#### 6) Which Neighborhoods have the most no-shows?\n",
    "\n",
    "It was found that the neighbourhoods Jardim Camburi, Maria Ortiz, Resistencia, Jardim Da Pehna, and Itarare had the largest number of no-shows. It was then shown they are all above average for the number of no-shows but not all were above average for percentage of no shows, so some of the neighbourhoods have larger populations than others."
   ]
  },
  {
   "cell_type": "markdown",
   "metadata": {},
   "source": [
    "#### 7) Which conditions, if any, have a higher rate of no-shows than patients who don't have those conditions?\n",
    "\n",
    "It was found that patients with alcoholsim have the same rate of no-show as the general population, while both those with hypertension and diabetes have fewer no-shows than the general population.\n",
    "\n",
    "Patients with 1 or 2 handicaps show up more often or as often as the general population. Those patients with 3 handicaps no-show 3% more often, and those with 4 or more no-show 13% more often.\n"
   ]
  },
  {
   "cell_type": "markdown",
   "metadata": {},
   "source": [
    "#### Limitations and additional information needed\n",
    "\n",
    "While I found several variables that were associated with instances of no-show appointments, I did not have access to the income data of patients. Many of the association that we found could be more thoroughly explained if we knew which patients were in lower income brackets. For example, those on the goverment scholarship program appear to have a negative association with their rate of showing up, but if they are the lower income subjects they could be missing appointments due to not being able to leave work to make the appointment. "
   ]
  },
  {
   "cell_type": "code",
   "execution_count": 65,
   "metadata": {},
   "outputs": [
    {
     "data": {
      "text/plain": [
       "0"
      ]
     },
     "execution_count": 65,
     "metadata": {},
     "output_type": "execute_result"
    }
   ],
   "source": [
    "from subprocess import call\n",
    "call(['python', '-m', 'nbconvert', 'Investigate_a_Dataset.ipynb'])"
   ]
  }
 ],
 "metadata": {
  "kernelspec": {
   "display_name": "Python 3",
   "language": "python",
   "name": "python3"
  },
  "language_info": {
   "codemirror_mode": {
    "name": "ipython",
    "version": 3
   },
   "file_extension": ".py",
   "mimetype": "text/x-python",
   "name": "python",
   "nbconvert_exporter": "python",
   "pygments_lexer": "ipython3",
   "version": "3.6.3"
  }
 },
 "nbformat": 4,
 "nbformat_minor": 2
}
